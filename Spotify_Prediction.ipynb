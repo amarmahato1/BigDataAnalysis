{
 "cells": [
  {
   "cell_type": "code",
   "execution_count": 1,
   "id": "0a262302",
   "metadata": {},
   "outputs": [
    {
     "name": "stdout",
     "output_type": "stream",
     "text": [
      "Defaulting to user installation because normal site-packages is not writeable\n",
      "Requirement already satisfied: pyspark in /home/amar/.local/lib/python3.10/site-packages (3.4.1)\n",
      "Requirement already satisfied: py4j==0.10.9.7 in /home/amar/.local/lib/python3.10/site-packages (from pyspark) (0.10.9.7)\n"
     ]
    }
   ],
   "source": [
    "# Use the following command to install pyspark using pip\n",
    "!pip install pyspark"
   ]
  },
  {
   "cell_type": "code",
   "execution_count": 2,
   "id": "08ab2a99",
   "metadata": {},
   "outputs": [
    {
     "name": "stdout",
     "output_type": "stream",
     "text": [
      "Defaulting to user installation because normal site-packages is not writeable\n",
      "Requirement already satisfied: seaborn in /home/amar/.local/lib/python3.10/site-packages (0.12.2)\n",
      "Requirement already satisfied: pandas>=0.25 in /home/amar/.local/lib/python3.10/site-packages (from seaborn) (2.0.3)\n",
      "Requirement already satisfied: matplotlib!=3.6.1,>=3.1 in /usr/lib/python3/dist-packages (from seaborn) (3.5.1)\n",
      "Requirement already satisfied: numpy!=1.24.0,>=1.17 in /usr/lib/python3/dist-packages (from seaborn) (1.21.5)\n",
      "Requirement already satisfied: pytz>=2020.1 in /usr/lib/python3/dist-packages (from pandas>=0.25->seaborn) (2022.1)\n",
      "Requirement already satisfied: python-dateutil>=2.8.2 in /home/amar/.local/lib/python3.10/site-packages (from pandas>=0.25->seaborn) (2.8.2)\n",
      "Requirement already satisfied: tzdata>=2022.1 in /home/amar/.local/lib/python3.10/site-packages (from pandas>=0.25->seaborn) (2023.3)\n",
      "Requirement already satisfied: six>=1.5 in /usr/lib/python3/dist-packages (from python-dateutil>=2.8.2->pandas>=0.25->seaborn) (1.16.0)\n"
     ]
    }
   ],
   "source": [
    "# Use the following command to install seaborn using pip\n",
    "!pip install seaborn"
   ]
  },
  {
   "cell_type": "code",
   "execution_count": 3,
   "id": "bd7b99b7",
   "metadata": {},
   "outputs": [
    {
     "name": "stdout",
     "output_type": "stream",
     "text": [
      "Defaulting to user installation because normal site-packages is not writeable\n",
      "Requirement already satisfied: scikit-learn in /home/amar/.local/lib/python3.10/site-packages (1.3.0)\n",
      "Requirement already satisfied: joblib>=1.1.1 in /home/amar/.local/lib/python3.10/site-packages (from scikit-learn) (1.3.2)\n",
      "Requirement already satisfied: threadpoolctl>=2.0.0 in /home/amar/.local/lib/python3.10/site-packages (from scikit-learn) (3.2.0)\n",
      "Requirement already satisfied: scipy>=1.5.0 in /usr/lib/python3/dist-packages (from scikit-learn) (1.8.0)\n",
      "Requirement already satisfied: numpy>=1.17.3 in /usr/lib/python3/dist-packages (from scikit-learn) (1.21.5)\n"
     ]
    }
   ],
   "source": [
    "# Use the following command to install scikit-learn using pip\n",
    "!pip install scikit-learn"
   ]
  },
  {
   "cell_type": "code",
   "execution_count": 4,
   "id": "9c2da931",
   "metadata": {},
   "outputs": [],
   "source": [
    "# Importing necessary libraries\n",
    "import matplotlib.pyplot as plt\n",
    "import seaborn as sns\n",
    "\n",
    "# Import the numpy library and give it the alias 'np'\n",
    "import numpy as np \n",
    "\n",
    "# Import the pandas library and alias it as 'pd'\n",
    "import pandas as pd\n",
    "\n",
    "\n",
    "# Importing Spark-related libraries\n",
    "from pyspark import SparkConf, SparkContext\n",
    "from pyspark.sql import SparkSession, SQLContext\n",
    "from pyspark.sql.types import *\n",
    "import pyspark.sql.functions as F\n",
    "from pyspark.sql.functions import udf, col, split\n",
    "from pyspark.ml.regression import LinearRegression\n",
    "from pyspark.ml.classification import DecisionTreeClassifier, RandomForestClassifier, MultilayerPerceptronClassifier\n",
    "from pyspark.mllib.evaluation import MulticlassMetrics\n",
    "from pyspark.ml.tuning import ParamGridBuilder, CrossValidator, CrossValidatorModel, TrainValidationSplit\n",
    "from pyspark.ml.feature import VectorAssembler, StandardScaler, StringIndexer\n",
    "from pyspark.ml.evaluation import RegressionEvaluator, MulticlassClassificationEvaluator\n",
    "\n",
    "# Importing a utility function from scikit-learn\n",
    "from sklearn.metrics import confusion_matrix\n",
    "\n",
    "# Setting Seaborn theme for better visualizations\n",
    "sns.set_theme(style=\"darkgrid\")"
   ]
  },
  {
   "cell_type": "markdown",
   "id": "58fa4442",
   "metadata": {},
   "source": [
    "## Create the spark session"
   ]
  },
  {
   "cell_type": "code",
   "execution_count": 6,
   "id": "da9d8cd2",
   "metadata": {},
   "outputs": [],
   "source": [
    "# Create a SparkSession instance with the specified configuration\n",
    "# The 'master' parameter sets the number of local cores to use (2 in this case)\n",
    "# The 'appName' parameter sets a name for the Spark application\n",
    "spark = SparkSession.builder.master(\"local[2]\").appName(\"Top Hits Spotify from 2000-2019\").getOrCreate()"
   ]
  },
  {
   "cell_type": "code",
   "execution_count": 7,
   "id": "8f1b5755",
   "metadata": {},
   "outputs": [
    {
     "data": {
      "text/html": [
       "\n",
       "            <div>\n",
       "                <p><b>SparkSession - in-memory</b></p>\n",
       "                \n",
       "        <div>\n",
       "            <p><b>SparkContext</b></p>\n",
       "\n",
       "            <p><a href=\"http://10.0.2.15:4041\">Spark UI</a></p>\n",
       "\n",
       "            <dl>\n",
       "              <dt>Version</dt>\n",
       "                <dd><code>v3.4.1</code></dd>\n",
       "              <dt>Master</dt>\n",
       "                <dd><code>local[2]</code></dd>\n",
       "              <dt>AppName</dt>\n",
       "                <dd><code>Top Hits Spotify from 2000-2019</code></dd>\n",
       "            </dl>\n",
       "        </div>\n",
       "        \n",
       "            </div>\n",
       "        "
      ],
      "text/plain": [
       "<pyspark.sql.session.SparkSession at 0x7f050567b790>"
      ]
     },
     "execution_count": 7,
     "metadata": {},
     "output_type": "execute_result"
    }
   ],
   "source": [
    "spark"
   ]
  },
  {
   "cell_type": "code",
   "execution_count": 8,
   "id": "f59f1c1a",
   "metadata": {},
   "outputs": [
    {
     "data": {
      "text/html": [
       "\n",
       "        <div>\n",
       "            <p><b>SparkContext</b></p>\n",
       "\n",
       "            <p><a href=\"http://10.0.2.15:4041\">Spark UI</a></p>\n",
       "\n",
       "            <dl>\n",
       "              <dt>Version</dt>\n",
       "                <dd><code>v3.4.1</code></dd>\n",
       "              <dt>Master</dt>\n",
       "                <dd><code>local[2]</code></dd>\n",
       "              <dt>AppName</dt>\n",
       "                <dd><code>Top Hits Spotify from 2000-2019</code></dd>\n",
       "            </dl>\n",
       "        </div>\n",
       "        "
      ],
      "text/plain": [
       "<SparkContext master=local[2] appName=Top Hits Spotify from 2000-2019>"
      ]
     },
     "execution_count": 8,
     "metadata": {},
     "output_type": "execute_result"
    }
   ],
   "source": [
    "# Create a SparkContext\n",
    "sc = spark.sparkContext\n",
    "sc"
   ]
  },
  {
   "cell_type": "code",
   "execution_count": 9,
   "id": "f6052971",
   "metadata": {},
   "outputs": [
    {
     "name": "stderr",
     "output_type": "stream",
     "text": [
      "/home/amar/.local/lib/python3.10/site-packages/pyspark/sql/context.py:112: FutureWarning: Deprecated in 3.0.0. Use SparkSession.builder.getOrCreate() instead.\n",
      "  warnings.warn(\n"
     ]
    },
    {
     "data": {
      "text/plain": [
       "<pyspark.sql.context.SQLContext at 0x7f0535087d90>"
      ]
     },
     "execution_count": 9,
     "metadata": {},
     "output_type": "execute_result"
    }
   ],
   "source": [
    "# Create an instance of SQLContext using the Spark session's SparkContext\n",
    "sqlContext = SQLContext(spark.sparkContext)\n",
    "sqlContext"
   ]
  },
  {
   "cell_type": "markdown",
   "id": "e3df52a1",
   "metadata": {},
   "source": [
    "## Load Data"
   ]
  },
  {
   "cell_type": "code",
   "execution_count": 10,
   "id": "717c5051",
   "metadata": {},
   "outputs": [],
   "source": [
    "#Define the structure of the table\n",
    "schema = StructType([\n",
    "    StructField(\"artist\", StringType(), nullable=True),\n",
    "    StructField(\"song\", StringType(), nullable=True),\n",
    "    StructField(\"duration_ms\", IntegerType(), nullable=True),\n",
    "    StructField(\"explicit\", BooleanType(), nullable=True),\n",
    "    StructField(\"year\", IntegerType(), nullable=True),\n",
    "    StructField(\"popularity\", IntegerType(), nullable=True),\n",
    "    StructField(\"danceability\", FloatType(), nullable=True),\n",
    "    StructField(\"energy\", FloatType(), nullable=True),\n",
    "    StructField(\"key\", IntegerType(), nullable=True),\n",
    "    StructField(\"loudness\", FloatType(), nullable=True),\n",
    "    StructField(\"mode\", IntegerType(), nullable=True),\n",
    "    StructField(\"speechiness\", FloatType(), nullable=True),\n",
    "    StructField(\"acousticness\", FloatType(), nullable=True),\n",
    "    StructField(\"instrumentalness\", FloatType(), nullable=True),\n",
    "    StructField(\"liveness\", FloatType(), nullable=True),\n",
    "    StructField(\"valence\", FloatType(), nullable=True),\n",
    "    StructField(\"tempo\", FloatType(), nullable=True),\n",
    "    StructField(\"genre\", StringType(), nullable=True)]\n",
    ")\n",
    "#Dataset is(Top Hits Spotify from 2000-2019)\n",
    "hits_df = spark.read.csv('songs_normalize.csv',schema=schema,header=True)\n",
    "hits_df = hits_df.withColumnRenamed(\"duration_ms\", \"duration\")"
   ]
  },
  {
   "cell_type": "code",
   "execution_count": 12,
   "id": "ce8a8e89",
   "metadata": {},
   "outputs": [
    {
     "data": {
      "text/plain": [
       "2000"
      ]
     },
     "execution_count": 12,
     "metadata": {},
     "output_type": "execute_result"
    }
   ],
   "source": [
    "hits_df.count() #rows"
   ]
  },
  {
   "cell_type": "code",
   "execution_count": 13,
   "id": "f78b29e0",
   "metadata": {},
   "outputs": [
    {
     "data": {
      "text/plain": [
       "['artist',\n",
       " 'song',\n",
       " 'duration',\n",
       " 'explicit',\n",
       " 'year',\n",
       " 'popularity',\n",
       " 'danceability',\n",
       " 'energy',\n",
       " 'key',\n",
       " 'loudness',\n",
       " 'mode',\n",
       " 'speechiness',\n",
       " 'acousticness',\n",
       " 'instrumentalness',\n",
       " 'liveness',\n",
       " 'valence',\n",
       " 'tempo',\n",
       " 'genre']"
      ]
     },
     "execution_count": 13,
     "metadata": {},
     "output_type": "execute_result"
    }
   ],
   "source": [
    "hits_df.columns"
   ]
  },
  {
   "cell_type": "code",
   "execution_count": 14,
   "id": "a486aa50",
   "metadata": {},
   "outputs": [
    {
     "name": "stderr",
     "output_type": "stream",
     "text": [
      "                                                                                \r"
     ]
    },
    {
     "name": "stdout",
     "output_type": "stream",
     "text": [
      "+--------------+--------------------+--------+--------+----+----------+------------+------+---+--------+----+-----------+------------+----------------+--------+-------+-------+------------+\n",
      "|        artist|                song|duration|explicit|year|popularity|danceability|energy|key|loudness|mode|speechiness|acousticness|instrumentalness|liveness|valence|  tempo|       genre|\n",
      "+--------------+--------------------+--------+--------+----+----------+------------+------+---+--------+----+-----------+------------+----------------+--------+-------+-------+------------+\n",
      "|Britney Spears|Oops!...I Did It ...|  211160|   false|2000|        77|       0.751| 0.834|  1|  -5.444|   0|     0.0437|         0.3|         1.77E-5|   0.355|  0.894| 95.053|         pop|\n",
      "|     blink-182|All The Small Things|  167066|   false|1999|        79|       0.434| 0.897|  0|  -4.918|   1|     0.0488|      0.0103|             0.0|   0.612|  0.684|148.726|   rock, pop|\n",
      "|    Faith Hill|             Breathe|  250546|   false|1999|        66|       0.529| 0.496|  7|  -9.007|   1|      0.029|       0.173|             0.0|   0.251|  0.278|136.859|pop, country|\n",
      "|      Bon Jovi|        It's My Life|  224493|   false|2000|        78|       0.551| 0.913|  0|  -4.063|   0|     0.0466|      0.0263|         1.35E-5|   0.347|  0.544|119.992| rock, metal|\n",
      "|        *NSYNC|         Bye Bye Bye|  200560|   false|2000|        65|       0.614| 0.928|  8|  -4.806|   0|     0.0516|      0.0408|         0.00104|  0.0845|  0.879|172.656|         pop|\n",
      "+--------------+--------------------+--------+--------+----+----------+------------+------+---+--------+----+-----------+------------+----------------+--------+-------+-------+------------+\n",
      "only showing top 5 rows\n",
      "\n"
     ]
    }
   ],
   "source": [
    "hits_df.show(5)"
   ]
  },
  {
   "cell_type": "code",
   "execution_count": 15,
   "id": "f7104aa4",
   "metadata": {},
   "outputs": [
    {
     "name": "stdout",
     "output_type": "stream",
     "text": [
      "root\n",
      " |-- artist: string (nullable = true)\n",
      " |-- song: string (nullable = true)\n",
      " |-- duration: integer (nullable = true)\n",
      " |-- explicit: boolean (nullable = true)\n",
      " |-- year: integer (nullable = true)\n",
      " |-- popularity: integer (nullable = true)\n",
      " |-- danceability: float (nullable = true)\n",
      " |-- energy: float (nullable = true)\n",
      " |-- key: integer (nullable = true)\n",
      " |-- loudness: float (nullable = true)\n",
      " |-- mode: integer (nullable = true)\n",
      " |-- speechiness: float (nullable = true)\n",
      " |-- acousticness: float (nullable = true)\n",
      " |-- instrumentalness: float (nullable = true)\n",
      " |-- liveness: float (nullable = true)\n",
      " |-- valence: float (nullable = true)\n",
      " |-- tempo: float (nullable = true)\n",
      " |-- genre: string (nullable = true)\n",
      "\n"
     ]
    }
   ],
   "source": [
    "hits_df.printSchema()"
   ]
  },
  {
   "cell_type": "markdown",
   "id": "f974f655",
   "metadata": {},
   "source": [
    "## Preprocessing Data"
   ]
  },
  {
   "cell_type": "code",
   "execution_count": 16,
   "id": "7e7d2bcf",
   "metadata": {},
   "outputs": [
    {
     "name": "stderr",
     "output_type": "stream",
     "text": [
      "                                                                                \r"
     ]
    },
    {
     "data": {
      "text/plain": [
       "42"
      ]
     },
     "execution_count": 16,
     "metadata": {},
     "output_type": "execute_result"
    }
   ],
   "source": [
    "# Add the counts from before 2000 and after 2019 to get the total count\n",
    "hits_df.where('year<2000').count() + hits_df.where('year>2019').count()\n"
   ]
  },
  {
   "cell_type": "code",
   "execution_count": 17,
   "id": "5a1ba4f5",
   "metadata": {},
   "outputs": [
    {
     "data": {
      "text/plain": [
       "1958"
      ]
     },
     "execution_count": 17,
     "metadata": {},
     "output_type": "execute_result"
    }
   ],
   "source": [
    "# Filtering the 'hits_df' DataFrame to include only rows with years between 2000 and 2019.\n",
    "hits_df = hits_df.filter('year>=2000').filter('year<=2019')\n",
    "# Counting the number of rows in the filtered DataFrame.\n",
    "hits_df.count()\n"
   ]
  },
  {
   "cell_type": "code",
   "execution_count": 18,
   "id": "f8b3c8e5",
   "metadata": {},
   "outputs": [],
   "source": [
    "#Convert duration from milliseconds to seconds\n",
    "hits_df = hits_df.withColumn(\"duration\", col(\"duration\")/1000) "
   ]
  },
  {
   "cell_type": "code",
   "execution_count": 19,
   "id": "687a33c2",
   "metadata": {},
   "outputs": [
    {
     "name": "stderr",
     "output_type": "stream",
     "text": [
      "\r",
      "[Stage 16:>                                                         (0 + 1) / 1]\r",
      "\r",
      "                                                                                \r"
     ]
    },
    {
     "name": "stdout",
     "output_type": "stream",
     "text": [
      "+---------------+--------------------+--------+--------+----+----------+------------+------+---+--------+----+-----------+------------+----------------+--------+-------+-------+-----------+\n",
      "|         artist|                song|duration|explicit|year|popularity|danceability|energy|key|loudness|mode|speechiness|acousticness|instrumentalness|liveness|valence|  tempo|      genre|\n",
      "+---------------+--------------------+--------+--------+----+----------+------------+------+---+--------+----+-----------+------------+----------------+--------+-------+-------+-----------+\n",
      "| Britney Spears|Oops!...I Did It ...|  211.16|   false|2000|        77|       0.751| 0.834|  1|  -5.444|   0|     0.0437|         0.3|         1.77E-5|   0.355|  0.894| 95.053|        pop|\n",
      "|       Bon Jovi|        It's My Life| 224.493|   false|2000|        78|       0.551| 0.913|  0|  -4.063|   0|     0.0466|      0.0263|         1.35E-5|   0.347|  0.544|119.992|rock, metal|\n",
      "|         *NSYNC|         Bye Bye Bye|  200.56|   false|2000|        65|       0.614| 0.928|  8|  -4.806|   0|     0.0516|      0.0408|         0.00104|  0.0845|  0.879|172.656|        pop|\n",
      "|         Eminem| The Real Slim Shady|   284.2|    true|2000|        86|       0.949| 0.661|  5|  -4.244|   0|     0.0572|      0.0302|             0.0|  0.0454|   0.76|104.504|    hip hop|\n",
      "|Robbie Williams|             Rock DJ|  258.56|   false|2000|        68|       0.708| 0.772|  7|  -4.264|   1|     0.0322|      0.0267|             0.0|   0.467|  0.861|103.035|  pop, rock|\n",
      "+---------------+--------------------+--------+--------+----+----------+------------+------+---+--------+----+-----------+------------+----------------+--------+-------+-------+-----------+\n",
      "only showing top 5 rows\n",
      "\n"
     ]
    }
   ],
   "source": [
    "hits_df.show(5)"
   ]
  },
  {
   "cell_type": "markdown",
   "id": "e3ddb6fe",
   "metadata": {},
   "source": [
    "## Exploratory Data Analysis"
   ]
  },
  {
   "cell_type": "code",
   "execution_count": 20,
   "id": "6ed8a63c",
   "metadata": {},
   "outputs": [
    {
     "name": "stderr",
     "output_type": "stream",
     "text": [
      "                                                                                \r"
     ]
    },
    {
     "name": "stdout",
     "output_type": "stream",
     "text": [
      "+-----------------+--------------------+--------+\n",
      "|           artist|                song|duration|\n",
      "+-----------------+--------------------+--------+\n",
      "|Justin Timberlake|             Mirrors| 484.146|\n",
      "|    Roger Sanchez|      Another Chance| 452.906|\n",
      "|Justin Timberlake|What Goes Around....| 448.573|\n",
      "|Justin Timberlake|LoveStoned / I Th...| 444.333|\n",
      "|      Dirty Vegas|          Days Go By| 432.146|\n",
      "+-----------------+--------------------+--------+\n",
      "only showing top 5 rows\n",
      "\n"
     ]
    }
   ],
   "source": [
    "#Top 5 longest and shortest songs\n",
    "# Sorting the DataFrame 'hits_df' in descending order based on the 'duration' column\n",
    "# orderBy(col(\"duration\").desc()) sorts the DataFrame by the 'duration' column in descending order\n",
    "sorted_hits_df = hits_df.orderBy(col(\"duration\").desc())\n",
    "\n",
    "# Selecting specific columns 'artist', 'song', and 'duration' from the sorted DataFrame\n",
    "# select('artist', 'song', 'duration') retains only the specified columns in the DataFrame\n",
    "selected_columns_df = sorted_hits_df.select('artist', 'song', 'duration')\n",
    "\n",
    "# Displaying the top 5 rows of the DataFrame with selected columns\n",
    "# show(5) displays the first 5 rows of the DataFrame\n",
    "selected_columns_df.show(5)\n",
    "\n"
   ]
  },
  {
   "cell_type": "code",
   "execution_count": 21,
   "id": "fb118a09",
   "metadata": {},
   "outputs": [
    {
     "name": "stdout",
     "output_type": "stream",
     "text": [
      "+------------+--------------+--------+\n",
      "|      artist|          song|duration|\n",
      "+------------+--------------+--------+\n",
      "|   Lil Nas X| Old Town Road|   113.0|\n",
      "|   Lil Nas X|        Panini| 114.893|\n",
      "|XXXTENTACION|Jocelyn Flores| 119.133|\n",
      "|XXXTENTACION|       changes| 121.886|\n",
      "|    Lil Pump|    Gucci Gang| 124.055|\n",
      "+------------+--------------+--------+\n",
      "only showing top 5 rows\n",
      "\n"
     ]
    }
   ],
   "source": [
    "# Sorting the 'hits_df' DataFrame in ascending order based on the 'duration' column.\n",
    "sorted_hits_df = hits_df.orderBy(col(\"duration\").asc())\n",
    "\n",
    "# Selecting specific columns 'artist', 'song', and 'duration' from the sorted DataFrame.\n",
    "selected_columns_df = sorted_hits_df.select('artist', 'song', 'duration')\n",
    "\n",
    "# Displaying the top 5 rows of the DataFrame with the selected columns.\n",
    "selected_columns_df.show(5)"
   ]
  },
  {
   "cell_type": "markdown",
   "id": "febc9131",
   "metadata": {},
   "source": [
    "-Some artist appear more than once, which also reflects the characteristics of their works to a certain extent."
   ]
  },
  {
   "cell_type": "code",
   "execution_count": 22,
   "id": "025381f5",
   "metadata": {},
   "outputs": [],
   "source": [
    "#Top hits by year\n",
    "# Group the 'hits_df' DataFrame by the 'year' column and count the occurrences in each group\n",
    "grouped_hits_df = hits_df.groupBy(col('year')).count()\n",
    "\n",
    "# Order the resulting DataFrame by the 'year' column in ascending order\n",
    "ordered_hits_df = grouped_hits_df.orderBy('year')\n",
    "\n"
   ]
  },
  {
   "cell_type": "code",
   "execution_count": 23,
   "id": "24632f9d",
   "metadata": {},
   "outputs": [
    {
     "name": "stderr",
     "output_type": "stream",
     "text": [
      "                                                                                \r"
     ]
    },
    {
     "name": "stdout",
     "output_type": "stream",
     "text": [
      "+----+-----+\n",
      "|year|count|\n",
      "+----+-----+\n",
      "|2000|   74|\n",
      "|2001|  108|\n",
      "|2002|   90|\n",
      "|2003|   97|\n",
      "|2004|   96|\n",
      "|2005|  104|\n",
      "|2006|   95|\n",
      "|2007|   94|\n",
      "|2008|   97|\n",
      "|2009|   84|\n",
      "|2010|  107|\n",
      "|2011|   99|\n",
      "|2012|  115|\n",
      "|2013|   89|\n",
      "|2014|  104|\n",
      "|2015|   99|\n",
      "|2016|   99|\n",
      "|2017|  111|\n",
      "|2018|  107|\n",
      "|2019|   89|\n",
      "+----+-----+\n",
      "\n"
     ]
    }
   ],
   "source": [
    "ordered_hits_df.show()"
   ]
  },
  {
   "cell_type": "markdown",
   "id": "ce5ff6e7",
   "metadata": {},
   "source": [
    "## Artists"
   ]
  },
  {
   "cell_type": "code",
   "execution_count": 24,
   "id": "e03c8b2d",
   "metadata": {},
   "outputs": [],
   "source": [
    "# Grouping the hits_df DataFrame by 'artist' and counting the number of songs by each artist\n",
    "songsbyartist_df = hits_df.groupBy(col('artist')).count()\n",
    "\n",
    "# Grouping the hits_df DataFrame by 'artist' and calculating the average popularity for each artist\n",
    "popbyartist_df = hits_df.groupBy(col('artist')).mean().select('artist', 'avg(popularity)')\n",
    "\n",
    "# Joining the 'songsbyartist_df' and 'popbyartist_df' DataFrames on the 'artist' column using an inner join\n",
    "# This combines the song count and average popularity information for each artist\n",
    "songspopbyartist_df = songsbyartist_df.join(popbyartist_df, 'artist', 'inner')\n",
    "\n"
   ]
  },
  {
   "cell_type": "markdown",
   "id": "1876514d",
   "metadata": {},
   "source": [
    "## Genres"
   ]
  },
  {
   "cell_type": "code",
   "execution_count": 25,
   "id": "fae5b71d",
   "metadata": {},
   "outputs": [
    {
     "name": "stderr",
     "output_type": "stream",
     "text": [
      "                                                                                \r"
     ]
    },
    {
     "data": {
      "text/html": [
       "<div>\n",
       "<style scoped>\n",
       "    .dataframe tbody tr th:only-of-type {\n",
       "        vertical-align: middle;\n",
       "    }\n",
       "\n",
       "    .dataframe tbody tr th {\n",
       "        vertical-align: top;\n",
       "    }\n",
       "\n",
       "    .dataframe thead th {\n",
       "        text-align: right;\n",
       "    }\n",
       "</style>\n",
       "<table border=\"1\" class=\"dataframe\">\n",
       "  <thead>\n",
       "    <tr style=\"text-align: right;\">\n",
       "      <th></th>\n",
       "      <th>artist</th>\n",
       "      <th>song</th>\n",
       "      <th>duration</th>\n",
       "      <th>explicit</th>\n",
       "      <th>year</th>\n",
       "      <th>popularity</th>\n",
       "      <th>danceability</th>\n",
       "      <th>energy</th>\n",
       "      <th>key</th>\n",
       "      <th>loudness</th>\n",
       "      <th>mode</th>\n",
       "      <th>speechiness</th>\n",
       "      <th>acousticness</th>\n",
       "      <th>instrumentalness</th>\n",
       "      <th>liveness</th>\n",
       "      <th>valence</th>\n",
       "      <th>tempo</th>\n",
       "      <th>genre</th>\n",
       "    </tr>\n",
       "  </thead>\n",
       "  <tbody>\n",
       "    <tr>\n",
       "      <th>0</th>\n",
       "      <td>Britney Spears</td>\n",
       "      <td>Oops!...I Did It Again</td>\n",
       "      <td>211.160</td>\n",
       "      <td>False</td>\n",
       "      <td>2000</td>\n",
       "      <td>77</td>\n",
       "      <td>0.751</td>\n",
       "      <td>0.834</td>\n",
       "      <td>1</td>\n",
       "      <td>-5.444</td>\n",
       "      <td>0</td>\n",
       "      <td>0.0437</td>\n",
       "      <td>0.3000</td>\n",
       "      <td>0.000018</td>\n",
       "      <td>0.3550</td>\n",
       "      <td>0.894</td>\n",
       "      <td>95.053001</td>\n",
       "      <td>pop</td>\n",
       "    </tr>\n",
       "    <tr>\n",
       "      <th>1</th>\n",
       "      <td>Bon Jovi</td>\n",
       "      <td>It's My Life</td>\n",
       "      <td>224.493</td>\n",
       "      <td>False</td>\n",
       "      <td>2000</td>\n",
       "      <td>78</td>\n",
       "      <td>0.551</td>\n",
       "      <td>0.913</td>\n",
       "      <td>0</td>\n",
       "      <td>-4.063</td>\n",
       "      <td>0</td>\n",
       "      <td>0.0466</td>\n",
       "      <td>0.0263</td>\n",
       "      <td>0.000014</td>\n",
       "      <td>0.3470</td>\n",
       "      <td>0.544</td>\n",
       "      <td>119.991997</td>\n",
       "      <td>rock</td>\n",
       "    </tr>\n",
       "    <tr>\n",
       "      <th>2</th>\n",
       "      <td>Bon Jovi</td>\n",
       "      <td>It's My Life</td>\n",
       "      <td>224.493</td>\n",
       "      <td>False</td>\n",
       "      <td>2000</td>\n",
       "      <td>78</td>\n",
       "      <td>0.551</td>\n",
       "      <td>0.913</td>\n",
       "      <td>0</td>\n",
       "      <td>-4.063</td>\n",
       "      <td>0</td>\n",
       "      <td>0.0466</td>\n",
       "      <td>0.0263</td>\n",
       "      <td>0.000014</td>\n",
       "      <td>0.3470</td>\n",
       "      <td>0.544</td>\n",
       "      <td>119.991997</td>\n",
       "      <td>metal</td>\n",
       "    </tr>\n",
       "    <tr>\n",
       "      <th>3</th>\n",
       "      <td>*NSYNC</td>\n",
       "      <td>Bye Bye Bye</td>\n",
       "      <td>200.560</td>\n",
       "      <td>False</td>\n",
       "      <td>2000</td>\n",
       "      <td>65</td>\n",
       "      <td>0.614</td>\n",
       "      <td>0.928</td>\n",
       "      <td>8</td>\n",
       "      <td>-4.806</td>\n",
       "      <td>0</td>\n",
       "      <td>0.0516</td>\n",
       "      <td>0.0408</td>\n",
       "      <td>0.001040</td>\n",
       "      <td>0.0845</td>\n",
       "      <td>0.879</td>\n",
       "      <td>172.656006</td>\n",
       "      <td>pop</td>\n",
       "    </tr>\n",
       "    <tr>\n",
       "      <th>4</th>\n",
       "      <td>Eminem</td>\n",
       "      <td>The Real Slim Shady</td>\n",
       "      <td>284.200</td>\n",
       "      <td>True</td>\n",
       "      <td>2000</td>\n",
       "      <td>86</td>\n",
       "      <td>0.949</td>\n",
       "      <td>0.661</td>\n",
       "      <td>5</td>\n",
       "      <td>-4.244</td>\n",
       "      <td>0</td>\n",
       "      <td>0.0572</td>\n",
       "      <td>0.0302</td>\n",
       "      <td>0.000000</td>\n",
       "      <td>0.0454</td>\n",
       "      <td>0.760</td>\n",
       "      <td>104.503998</td>\n",
       "      <td>hip hop</td>\n",
       "    </tr>\n",
       "    <tr>\n",
       "      <th>...</th>\n",
       "      <td>...</td>\n",
       "      <td>...</td>\n",
       "      <td>...</td>\n",
       "      <td>...</td>\n",
       "      <td>...</td>\n",
       "      <td>...</td>\n",
       "      <td>...</td>\n",
       "      <td>...</td>\n",
       "      <td>...</td>\n",
       "      <td>...</td>\n",
       "      <td>...</td>\n",
       "      <td>...</td>\n",
       "      <td>...</td>\n",
       "      <td>...</td>\n",
       "      <td>...</td>\n",
       "      <td>...</td>\n",
       "      <td>...</td>\n",
       "      <td>...</td>\n",
       "    </tr>\n",
       "    <tr>\n",
       "      <th>3625</th>\n",
       "      <td>Taylor Swift</td>\n",
       "      <td>Cruel Summer</td>\n",
       "      <td>178.426</td>\n",
       "      <td>False</td>\n",
       "      <td>2019</td>\n",
       "      <td>78</td>\n",
       "      <td>0.552</td>\n",
       "      <td>0.702</td>\n",
       "      <td>9</td>\n",
       "      <td>-5.707</td>\n",
       "      <td>1</td>\n",
       "      <td>0.1570</td>\n",
       "      <td>0.1170</td>\n",
       "      <td>0.000021</td>\n",
       "      <td>0.1050</td>\n",
       "      <td>0.564</td>\n",
       "      <td>169.994003</td>\n",
       "      <td>pop</td>\n",
       "    </tr>\n",
       "    <tr>\n",
       "      <th>3626</th>\n",
       "      <td>Blanco Brown</td>\n",
       "      <td>The Git Up</td>\n",
       "      <td>200.593</td>\n",
       "      <td>False</td>\n",
       "      <td>2019</td>\n",
       "      <td>69</td>\n",
       "      <td>0.847</td>\n",
       "      <td>0.678</td>\n",
       "      <td>9</td>\n",
       "      <td>-8.635</td>\n",
       "      <td>1</td>\n",
       "      <td>0.1090</td>\n",
       "      <td>0.0669</td>\n",
       "      <td>0.000000</td>\n",
       "      <td>0.2740</td>\n",
       "      <td>0.811</td>\n",
       "      <td>97.984001</td>\n",
       "      <td>hip hop</td>\n",
       "    </tr>\n",
       "    <tr>\n",
       "      <th>3627</th>\n",
       "      <td>Blanco Brown</td>\n",
       "      <td>The Git Up</td>\n",
       "      <td>200.593</td>\n",
       "      <td>False</td>\n",
       "      <td>2019</td>\n",
       "      <td>69</td>\n",
       "      <td>0.847</td>\n",
       "      <td>0.678</td>\n",
       "      <td>9</td>\n",
       "      <td>-8.635</td>\n",
       "      <td>1</td>\n",
       "      <td>0.1090</td>\n",
       "      <td>0.0669</td>\n",
       "      <td>0.000000</td>\n",
       "      <td>0.2740</td>\n",
       "      <td>0.811</td>\n",
       "      <td>97.984001</td>\n",
       "      <td>country</td>\n",
       "    </tr>\n",
       "    <tr>\n",
       "      <th>3628</th>\n",
       "      <td>Sam Smith</td>\n",
       "      <td>Dancing With A Stranger (with Normani)</td>\n",
       "      <td>171.029</td>\n",
       "      <td>False</td>\n",
       "      <td>2019</td>\n",
       "      <td>75</td>\n",
       "      <td>0.741</td>\n",
       "      <td>0.520</td>\n",
       "      <td>8</td>\n",
       "      <td>-7.513</td>\n",
       "      <td>1</td>\n",
       "      <td>0.0656</td>\n",
       "      <td>0.4500</td>\n",
       "      <td>0.000002</td>\n",
       "      <td>0.2220</td>\n",
       "      <td>0.347</td>\n",
       "      <td>102.998001</td>\n",
       "      <td>pop</td>\n",
       "    </tr>\n",
       "    <tr>\n",
       "      <th>3629</th>\n",
       "      <td>Post Malone</td>\n",
       "      <td>Circles</td>\n",
       "      <td>215.280</td>\n",
       "      <td>False</td>\n",
       "      <td>2019</td>\n",
       "      <td>85</td>\n",
       "      <td>0.695</td>\n",
       "      <td>0.762</td>\n",
       "      <td>0</td>\n",
       "      <td>-3.497</td>\n",
       "      <td>1</td>\n",
       "      <td>0.0395</td>\n",
       "      <td>0.1920</td>\n",
       "      <td>0.002440</td>\n",
       "      <td>0.0863</td>\n",
       "      <td>0.553</td>\n",
       "      <td>120.042000</td>\n",
       "      <td>hip hop</td>\n",
       "    </tr>\n",
       "  </tbody>\n",
       "</table>\n",
       "<p>3630 rows × 18 columns</p>\n",
       "</div>"
      ],
      "text/plain": [
       "              artist                                    song  duration  \\\n",
       "0     Britney Spears                  Oops!...I Did It Again   211.160   \n",
       "1           Bon Jovi                            It's My Life   224.493   \n",
       "2           Bon Jovi                            It's My Life   224.493   \n",
       "3             *NSYNC                             Bye Bye Bye   200.560   \n",
       "4             Eminem                     The Real Slim Shady   284.200   \n",
       "...              ...                                     ...       ...   \n",
       "3625    Taylor Swift                            Cruel Summer   178.426   \n",
       "3626    Blanco Brown                              The Git Up   200.593   \n",
       "3627    Blanco Brown                              The Git Up   200.593   \n",
       "3628       Sam Smith  Dancing With A Stranger (with Normani)   171.029   \n",
       "3629     Post Malone                                 Circles   215.280   \n",
       "\n",
       "      explicit  year  popularity  danceability  energy  key  loudness  mode  \\\n",
       "0        False  2000          77         0.751   0.834    1    -5.444     0   \n",
       "1        False  2000          78         0.551   0.913    0    -4.063     0   \n",
       "2        False  2000          78         0.551   0.913    0    -4.063     0   \n",
       "3        False  2000          65         0.614   0.928    8    -4.806     0   \n",
       "4         True  2000          86         0.949   0.661    5    -4.244     0   \n",
       "...        ...   ...         ...           ...     ...  ...       ...   ...   \n",
       "3625     False  2019          78         0.552   0.702    9    -5.707     1   \n",
       "3626     False  2019          69         0.847   0.678    9    -8.635     1   \n",
       "3627     False  2019          69         0.847   0.678    9    -8.635     1   \n",
       "3628     False  2019          75         0.741   0.520    8    -7.513     1   \n",
       "3629     False  2019          85         0.695   0.762    0    -3.497     1   \n",
       "\n",
       "      speechiness  acousticness  instrumentalness  liveness  valence  \\\n",
       "0          0.0437        0.3000          0.000018    0.3550    0.894   \n",
       "1          0.0466        0.0263          0.000014    0.3470    0.544   \n",
       "2          0.0466        0.0263          0.000014    0.3470    0.544   \n",
       "3          0.0516        0.0408          0.001040    0.0845    0.879   \n",
       "4          0.0572        0.0302          0.000000    0.0454    0.760   \n",
       "...           ...           ...               ...       ...      ...   \n",
       "3625       0.1570        0.1170          0.000021    0.1050    0.564   \n",
       "3626       0.1090        0.0669          0.000000    0.2740    0.811   \n",
       "3627       0.1090        0.0669          0.000000    0.2740    0.811   \n",
       "3628       0.0656        0.4500          0.000002    0.2220    0.347   \n",
       "3629       0.0395        0.1920          0.002440    0.0863    0.553   \n",
       "\n",
       "           tempo    genre  \n",
       "0      95.053001      pop  \n",
       "1     119.991997     rock  \n",
       "2     119.991997    metal  \n",
       "3     172.656006      pop  \n",
       "4     104.503998  hip hop  \n",
       "...          ...      ...  \n",
       "3625  169.994003      pop  \n",
       "3626   97.984001  hip hop  \n",
       "3627   97.984001  country  \n",
       "3628  102.998001      pop  \n",
       "3629  120.042000  hip hop  \n",
       "\n",
       "[3630 rows x 18 columns]"
      ]
     },
     "execution_count": 25,
     "metadata": {},
     "output_type": "execute_result"
    }
   ],
   "source": [
    "# Split the 'genre' column by ', ' and explode the resulting array\n",
    "genreexp = hits_df.withColumn(\"genre\", split(hits_df.genre, ', ', -1)) \\\n",
    "                  .toPandas() \\\n",
    "                  .explode('genre') \\\n",
    "                  .reset_index(drop=True)  \n",
    "genreexp\n"
   ]
  },
  {
   "cell_type": "code",
   "execution_count": 26,
   "id": "0e41175d",
   "metadata": {},
   "outputs": [
    {
     "data": {
      "text/plain": [
       "array(['pop', 'rock', 'metal', 'hip hop', 'Dance/Electronic', 'R&B',\n",
       "       'country', 'latin', 'Folk/Acoustic', 'easy listening',\n",
       "       'World/Traditional', 'set()', 'blues', 'jazz', 'classical'],\n",
       "      dtype=object)"
      ]
     },
     "execution_count": 26,
     "metadata": {},
     "output_type": "execute_result"
    }
   ],
   "source": [
    "genreexp.genre.unique()"
   ]
  },
  {
   "cell_type": "code",
   "execution_count": 27,
   "id": "d810c715",
   "metadata": {},
   "outputs": [
    {
     "data": {
      "text/html": [
       "<div>\n",
       "<style scoped>\n",
       "    .dataframe tbody tr th:only-of-type {\n",
       "        vertical-align: middle;\n",
       "    }\n",
       "\n",
       "    .dataframe tbody tr th {\n",
       "        vertical-align: top;\n",
       "    }\n",
       "\n",
       "    .dataframe thead th {\n",
       "        text-align: right;\n",
       "    }\n",
       "</style>\n",
       "<table border=\"1\" class=\"dataframe\">\n",
       "  <thead>\n",
       "    <tr style=\"text-align: right;\">\n",
       "      <th></th>\n",
       "      <th>duration</th>\n",
       "      <th>popularity</th>\n",
       "      <th>danceability</th>\n",
       "      <th>energy</th>\n",
       "      <th>key</th>\n",
       "      <th>loudness</th>\n",
       "      <th>mode</th>\n",
       "      <th>speechiness</th>\n",
       "      <th>acousticness</th>\n",
       "      <th>instrumentalness</th>\n",
       "      <th>liveness</th>\n",
       "      <th>valence</th>\n",
       "      <th>tempo</th>\n",
       "    </tr>\n",
       "    <tr>\n",
       "      <th>genre</th>\n",
       "      <th></th>\n",
       "      <th></th>\n",
       "      <th></th>\n",
       "      <th></th>\n",
       "      <th></th>\n",
       "      <th></th>\n",
       "      <th></th>\n",
       "      <th></th>\n",
       "      <th></th>\n",
       "      <th></th>\n",
       "      <th></th>\n",
       "      <th></th>\n",
       "      <th></th>\n",
       "    </tr>\n",
       "  </thead>\n",
       "  <tbody>\n",
       "    <tr>\n",
       "      <th>Dance/Electronic</th>\n",
       "      <td>215.846134</td>\n",
       "      <td>54.966408</td>\n",
       "      <td>0.666744</td>\n",
       "      <td>0.766687</td>\n",
       "      <td>5.754522</td>\n",
       "      <td>-5.151388</td>\n",
       "      <td>0.506460</td>\n",
       "      <td>0.079919</td>\n",
       "      <td>0.110175</td>\n",
       "      <td>0.037666</td>\n",
       "      <td>0.182850</td>\n",
       "      <td>0.537117</td>\n",
       "      <td>124.054489</td>\n",
       "    </tr>\n",
       "    <tr>\n",
       "      <th>Folk/Acoustic</th>\n",
       "      <td>220.620000</td>\n",
       "      <td>59.947368</td>\n",
       "      <td>0.555105</td>\n",
       "      <td>0.720789</td>\n",
       "      <td>4.421053</td>\n",
       "      <td>-6.480842</td>\n",
       "      <td>0.789474</td>\n",
       "      <td>0.042058</td>\n",
       "      <td>0.199999</td>\n",
       "      <td>0.045545</td>\n",
       "      <td>0.193379</td>\n",
       "      <td>0.560684</td>\n",
       "      <td>109.683258</td>\n",
       "    </tr>\n",
       "    <tr>\n",
       "      <th>R&amp;B</th>\n",
       "      <td>239.067526</td>\n",
       "      <td>58.629797</td>\n",
       "      <td>0.689108</td>\n",
       "      <td>0.663233</td>\n",
       "      <td>5.331828</td>\n",
       "      <td>-5.879093</td>\n",
       "      <td>0.523702</td>\n",
       "      <td>0.114886</td>\n",
       "      <td>0.150546</td>\n",
       "      <td>0.006579</td>\n",
       "      <td>0.162687</td>\n",
       "      <td>0.562708</td>\n",
       "      <td>115.507378</td>\n",
       "    </tr>\n",
       "    <tr>\n",
       "      <th>World/Traditional</th>\n",
       "      <td>216.728556</td>\n",
       "      <td>53.444444</td>\n",
       "      <td>0.577111</td>\n",
       "      <td>0.692889</td>\n",
       "      <td>4.222222</td>\n",
       "      <td>-6.354889</td>\n",
       "      <td>0.666667</td>\n",
       "      <td>0.078433</td>\n",
       "      <td>0.260068</td>\n",
       "      <td>0.220410</td>\n",
       "      <td>0.204456</td>\n",
       "      <td>0.641667</td>\n",
       "      <td>111.259888</td>\n",
       "    </tr>\n",
       "    <tr>\n",
       "      <th>blues</th>\n",
       "      <td>238.866667</td>\n",
       "      <td>38.666667</td>\n",
       "      <td>0.607333</td>\n",
       "      <td>0.692667</td>\n",
       "      <td>5.000000</td>\n",
       "      <td>-5.511667</td>\n",
       "      <td>0.333333</td>\n",
       "      <td>0.080533</td>\n",
       "      <td>0.014537</td>\n",
       "      <td>0.149010</td>\n",
       "      <td>0.216667</td>\n",
       "      <td>0.434000</td>\n",
       "      <td>131.272659</td>\n",
       "    </tr>\n",
       "    <tr>\n",
       "      <th>classical</th>\n",
       "      <td>219.560000</td>\n",
       "      <td>63.000000</td>\n",
       "      <td>0.590000</td>\n",
       "      <td>0.578000</td>\n",
       "      <td>10.000000</td>\n",
       "      <td>-5.798000</td>\n",
       "      <td>0.000000</td>\n",
       "      <td>0.052800</td>\n",
       "      <td>0.612000</td>\n",
       "      <td>0.000162</td>\n",
       "      <td>0.083700</td>\n",
       "      <td>0.264000</td>\n",
       "      <td>81.663002</td>\n",
       "    </tr>\n",
       "    <tr>\n",
       "      <th>country</th>\n",
       "      <td>220.810050</td>\n",
       "      <td>56.100000</td>\n",
       "      <td>0.580600</td>\n",
       "      <td>0.729700</td>\n",
       "      <td>5.800000</td>\n",
       "      <td>-5.397300</td>\n",
       "      <td>0.800000</td>\n",
       "      <td>0.060690</td>\n",
       "      <td>0.221801</td>\n",
       "      <td>0.000014</td>\n",
       "      <td>0.181940</td>\n",
       "      <td>0.533750</td>\n",
       "      <td>130.235809</td>\n",
       "    </tr>\n",
       "    <tr>\n",
       "      <th>easy listening</th>\n",
       "      <td>238.770667</td>\n",
       "      <td>60.833333</td>\n",
       "      <td>0.580500</td>\n",
       "      <td>0.658667</td>\n",
       "      <td>6.666667</td>\n",
       "      <td>-8.208500</td>\n",
       "      <td>0.500000</td>\n",
       "      <td>0.052600</td>\n",
       "      <td>0.256737</td>\n",
       "      <td>0.044731</td>\n",
       "      <td>0.140733</td>\n",
       "      <td>0.510000</td>\n",
       "      <td>121.166832</td>\n",
       "    </tr>\n",
       "    <tr>\n",
       "      <th>hip hop</th>\n",
       "      <td>234.056229</td>\n",
       "      <td>61.975260</td>\n",
       "      <td>0.717087</td>\n",
       "      <td>0.698659</td>\n",
       "      <td>5.602865</td>\n",
       "      <td>-5.595821</td>\n",
       "      <td>0.544271</td>\n",
       "      <td>0.151741</td>\n",
       "      <td>0.116307</td>\n",
       "      <td>0.006760</td>\n",
       "      <td>0.187508</td>\n",
       "      <td>0.560885</td>\n",
       "      <td>118.033691</td>\n",
       "    </tr>\n",
       "    <tr>\n",
       "      <th>jazz</th>\n",
       "      <td>224.813000</td>\n",
       "      <td>57.500000</td>\n",
       "      <td>0.548000</td>\n",
       "      <td>0.233000</td>\n",
       "      <td>2.000000</td>\n",
       "      <td>-14.417999</td>\n",
       "      <td>1.000000</td>\n",
       "      <td>0.031700</td>\n",
       "      <td>0.686000</td>\n",
       "      <td>0.004443</td>\n",
       "      <td>0.109950</td>\n",
       "      <td>0.225000</td>\n",
       "      <td>104.999496</td>\n",
       "    </tr>\n",
       "    <tr>\n",
       "      <th>latin</th>\n",
       "      <td>225.291016</td>\n",
       "      <td>59.196721</td>\n",
       "      <td>0.726279</td>\n",
       "      <td>0.788443</td>\n",
       "      <td>5.524590</td>\n",
       "      <td>-4.613787</td>\n",
       "      <td>0.573770</td>\n",
       "      <td>0.099516</td>\n",
       "      <td>0.166595</td>\n",
       "      <td>0.000622</td>\n",
       "      <td>0.198089</td>\n",
       "      <td>0.690918</td>\n",
       "      <td>117.349083</td>\n",
       "    </tr>\n",
       "    <tr>\n",
       "      <th>metal</th>\n",
       "      <td>231.883651</td>\n",
       "      <td>67.984127</td>\n",
       "      <td>0.509921</td>\n",
       "      <td>0.838381</td>\n",
       "      <td>5.253968</td>\n",
       "      <td>-4.781524</td>\n",
       "      <td>0.603175</td>\n",
       "      <td>0.047333</td>\n",
       "      <td>0.043774</td>\n",
       "      <td>0.005267</td>\n",
       "      <td>0.193386</td>\n",
       "      <td>0.453217</td>\n",
       "      <td>124.225716</td>\n",
       "    </tr>\n",
       "    <tr>\n",
       "      <th>pop</th>\n",
       "      <td>228.117945</td>\n",
       "      <td>59.239850</td>\n",
       "      <td>0.670732</td>\n",
       "      <td>0.714811</td>\n",
       "      <td>5.368520</td>\n",
       "      <td>-5.496302</td>\n",
       "      <td>0.547783</td>\n",
       "      <td>0.101302</td>\n",
       "      <td>0.132144</td>\n",
       "      <td>0.011274</td>\n",
       "      <td>0.179620</td>\n",
       "      <td>0.554393</td>\n",
       "      <td>119.600105</td>\n",
       "    </tr>\n",
       "    <tr>\n",
       "      <th>rock</th>\n",
       "      <td>226.876509</td>\n",
       "      <td>62.849558</td>\n",
       "      <td>0.554686</td>\n",
       "      <td>0.793128</td>\n",
       "      <td>5.349558</td>\n",
       "      <td>-5.148389</td>\n",
       "      <td>0.628319</td>\n",
       "      <td>0.059052</td>\n",
       "      <td>0.077752</td>\n",
       "      <td>0.030577</td>\n",
       "      <td>0.197685</td>\n",
       "      <td>0.524569</td>\n",
       "      <td>125.948410</td>\n",
       "    </tr>\n",
       "  </tbody>\n",
       "</table>\n",
       "</div>"
      ],
      "text/plain": [
       "                     duration  popularity  danceability    energy        key  \\\n",
       "genre                                                                          \n",
       "Dance/Electronic   215.846134   54.966408      0.666744  0.766687   5.754522   \n",
       "Folk/Acoustic      220.620000   59.947368      0.555105  0.720789   4.421053   \n",
       "R&B                239.067526   58.629797      0.689108  0.663233   5.331828   \n",
       "World/Traditional  216.728556   53.444444      0.577111  0.692889   4.222222   \n",
       "blues              238.866667   38.666667      0.607333  0.692667   5.000000   \n",
       "classical          219.560000   63.000000      0.590000  0.578000  10.000000   \n",
       "country            220.810050   56.100000      0.580600  0.729700   5.800000   \n",
       "easy listening     238.770667   60.833333      0.580500  0.658667   6.666667   \n",
       "hip hop            234.056229   61.975260      0.717087  0.698659   5.602865   \n",
       "jazz               224.813000   57.500000      0.548000  0.233000   2.000000   \n",
       "latin              225.291016   59.196721      0.726279  0.788443   5.524590   \n",
       "metal              231.883651   67.984127      0.509921  0.838381   5.253968   \n",
       "pop                228.117945   59.239850      0.670732  0.714811   5.368520   \n",
       "rock               226.876509   62.849558      0.554686  0.793128   5.349558   \n",
       "\n",
       "                    loudness      mode  speechiness  acousticness  \\\n",
       "genre                                                               \n",
       "Dance/Electronic   -5.151388  0.506460     0.079919      0.110175   \n",
       "Folk/Acoustic      -6.480842  0.789474     0.042058      0.199999   \n",
       "R&B                -5.879093  0.523702     0.114886      0.150546   \n",
       "World/Traditional  -6.354889  0.666667     0.078433      0.260068   \n",
       "blues              -5.511667  0.333333     0.080533      0.014537   \n",
       "classical          -5.798000  0.000000     0.052800      0.612000   \n",
       "country            -5.397300  0.800000     0.060690      0.221801   \n",
       "easy listening     -8.208500  0.500000     0.052600      0.256737   \n",
       "hip hop            -5.595821  0.544271     0.151741      0.116307   \n",
       "jazz              -14.417999  1.000000     0.031700      0.686000   \n",
       "latin              -4.613787  0.573770     0.099516      0.166595   \n",
       "metal              -4.781524  0.603175     0.047333      0.043774   \n",
       "pop                -5.496302  0.547783     0.101302      0.132144   \n",
       "rock               -5.148389  0.628319     0.059052      0.077752   \n",
       "\n",
       "                   instrumentalness  liveness   valence       tempo  \n",
       "genre                                                                \n",
       "Dance/Electronic           0.037666  0.182850  0.537117  124.054489  \n",
       "Folk/Acoustic              0.045545  0.193379  0.560684  109.683258  \n",
       "R&B                        0.006579  0.162687  0.562708  115.507378  \n",
       "World/Traditional          0.220410  0.204456  0.641667  111.259888  \n",
       "blues                      0.149010  0.216667  0.434000  131.272659  \n",
       "classical                  0.000162  0.083700  0.264000   81.663002  \n",
       "country                    0.000014  0.181940  0.533750  130.235809  \n",
       "easy listening             0.044731  0.140733  0.510000  121.166832  \n",
       "hip hop                    0.006760  0.187508  0.560885  118.033691  \n",
       "jazz                       0.004443  0.109950  0.225000  104.999496  \n",
       "latin                      0.000622  0.198089  0.690918  117.349083  \n",
       "metal                      0.005267  0.193386  0.453217  124.225716  \n",
       "pop                        0.011274  0.179620  0.554393  119.600105  \n",
       "rock                       0.030577  0.197685  0.524569  125.948410  "
      ]
     },
     "execution_count": 27,
     "metadata": {},
     "output_type": "execute_result"
    }
   ],
   "source": [
    "# Found that set() is an abnormal value, to be deleted\n",
    "\n",
    "# Remove rows where the genre is 'set()'\n",
    "genreexp = genreexp[genreexp['genre'] != 'set()']\n",
    "\n",
    "# Select only numeric columns (integers and floats)\n",
    "numeric_columns = genreexp.select_dtypes(include=['int', 'float'])\n",
    "\n",
    "# Group the numeric columns by genre and calculate the average (mean) value for each genre\n",
    "avgbygenre = numeric_columns.groupby(genreexp['genre']).mean()\n",
    "\n",
    "# Drop the 'year' column from the result, as it's not needed\n",
    "avgbygenre.drop(['year'], axis=1, inplace=True)\n",
    "avgbygenre"
   ]
  },
  {
   "cell_type": "code",
   "execution_count": 28,
   "id": "d07989a6",
   "metadata": {},
   "outputs": [],
   "source": [
    "# Reset the index of the 'avgbygenre' DataFrame in-place.\n",
    "# This is done to remove the current index and replace it with the default integer index.\n",
    "avgbygenre.reset_index(inplace=True)\n"
   ]
  },
  {
   "cell_type": "markdown",
   "id": "8410da3a",
   "metadata": {},
   "source": [
    "## Features correlation"
   ]
  },
  {
   "cell_type": "code",
   "execution_count": 29,
   "id": "6631a0c3",
   "metadata": {},
   "outputs": [
    {
     "name": "stderr",
     "output_type": "stream",
     "text": [
      "\r",
      "[Stage 23:>                                                         (0 + 1) / 1]\r",
      "\r",
      "                                                                                \r"
     ]
    },
    {
     "data": {
      "image/png": "[encoded data removed]",
      "text/plain": [
       "<Figure size 720x576 with 2 Axes>"
      ]
     },
     "metadata": {},
     "output_type": "display_data"
    }
   ],
   "source": [
    "# Correlation between features\n",
    "\n",
    "# List to store the names of numeric columns\n",
    "numeric_columns = [col_name for col_name, col_type in hits_df.dtypes if col_type != 'string']\n",
    "\n",
    "# Create a correlation matrix using Pearson correlation method\n",
    "corr_matrix = hits_df.select(*numeric_columns).toPandas().corr(method='pearson')\n",
    "\n",
    "# Set up the plot figure\n",
    "plt.figure(figsize=(10, 8))\n",
    "\n",
    "# Create a heatmap using the correlation matrix, with color map 'GnBu'\n",
    "sns.heatmap(corr_matrix, cmap='GnBu', annot=True, fmt=\".2f\")\n",
    "\n",
    "# Set the title of the plot\n",
    "plt.title(\"Correlation Heatmap\")\n",
    "\n",
    "# Display the plot\n",
    "plt.show()"
   ]
  },
  {
   "cell_type": "markdown",
   "id": "eff5e29c",
   "metadata": {},
   "source": [
    "-Loudness and energy have the highest positive correlation, and acousticity and energy have a strong negative correlation.\n",
    "We will further explore the characteristics of each feature of songs in each category."
   ]
  },
  {
   "cell_type": "code",
   "execution_count": 30,
   "id": "c318cfe9",
   "metadata": {},
   "outputs": [],
   "source": [
    "genre_num_songs = genreexp.groupby(\"genre\").size().reset_index()\n",
    "genre_num_songs.columns = [\"genre\", \"songs\"]\n",
    "genre_num_songs.drop(genre_num_songs[genre_num_songs.songs<5].index, inplace=True)  \n",
    "valid_genres = genre_num_songs.genre.values\n",
    "#Iterate for each genre\n",
    "# Iterate for each genre\n",
    "for genre in valid_genres:\n",
    "    data = avgbygenre.drop([\"popularity\"], axis=1)[avgbygenre.genre == genre]\n",
    "    # Exclude features with different scales\n",
    "    data = data.drop([\"genre\", \"tempo\", \"duration\", \"key\", \"loudness\"], axis=1).transpose().reset_index()\n",
    "    data.columns = [\"feature\", \"value\"]\n",
    "    \n",
    " \n",
    "\n"
   ]
  },
  {
   "cell_type": "markdown",
   "id": "16ae2226",
   "metadata": {},
   "source": [
    "## Attempt to Predict Popularity"
   ]
  },
  {
   "cell_type": "code",
   "execution_count": 31,
   "id": "516fc979",
   "metadata": {},
   "outputs": [
    {
     "name": "stdout",
     "output_type": "stream",
     "text": [
      "+---------------+--------------------+--------+--------+----+----------+------------+------+---+--------+----+-----------+------------+----------------+--------+-------+-------+-----------+\n",
      "|         artist|                song|duration|explicit|year|popularity|danceability|energy|key|loudness|mode|speechiness|acousticness|instrumentalness|liveness|valence|  tempo|      genre|\n",
      "+---------------+--------------------+--------+--------+----+----------+------------+------+---+--------+----+-----------+------------+----------------+--------+-------+-------+-----------+\n",
      "| Britney Spears|Oops!...I Did It ...|  211.16|   false|2000|        77|       0.751| 0.834|  1|  -5.444|   0|     0.0437|         0.3|         1.77E-5|   0.355|  0.894| 95.053|        pop|\n",
      "|       Bon Jovi|        It's My Life| 224.493|   false|2000|        78|       0.551| 0.913|  0|  -4.063|   0|     0.0466|      0.0263|         1.35E-5|   0.347|  0.544|119.992|rock, metal|\n",
      "|         *NSYNC|         Bye Bye Bye|  200.56|   false|2000|        65|       0.614| 0.928|  8|  -4.806|   0|     0.0516|      0.0408|         0.00104|  0.0845|  0.879|172.656|        pop|\n",
      "|         Eminem| The Real Slim Shady|   284.2|    true|2000|        86|       0.949| 0.661|  5|  -4.244|   0|     0.0572|      0.0302|             0.0|  0.0454|   0.76|104.504|    hip hop|\n",
      "|Robbie Williams|             Rock DJ|  258.56|   false|2000|        68|       0.708| 0.772|  7|  -4.264|   1|     0.0322|      0.0267|             0.0|   0.467|  0.861|103.035|  pop, rock|\n",
      "+---------------+--------------------+--------+--------+----+----------+------------+------+---+--------+----+-----------+------------+----------------+--------+-------+-------+-----------+\n",
      "only showing top 5 rows\n",
      "\n"
     ]
    }
   ],
   "source": [
    "#First, we try to predict popularity and look for features that are strongly correlated with popularity.\n",
    "\n",
    "hits_df.show(5)"
   ]
  },
  {
   "cell_type": "code",
   "execution_count": 32,
   "id": "3b0c4374",
   "metadata": {},
   "outputs": [],
   "source": [
    "# List of columns representing the features we want to include in the model\n",
    "featureCols = [\"duration\", \"explicit\", \"danceability\", \"energy\", \"key\", \"loudness\", \"mode\", \"speechiness\", \"acousticness\", \"instrumentalness\", \"liveness\", \"valence\", \"tempo\"]\n",
    "\n",
    "# Create a VectorAssembler to combine the specified feature columns into a single feature vector column\n",
    "from pyspark.ml.feature import VectorAssembler\n",
    "assembler = VectorAssembler(inputCols=featureCols, outputCol=\"features\")\n",
    "\n",
    "# Apply the VectorAssembler to the 'hits_df' DataFrame to transform the selected feature columns into a feature vector\n",
    "assembled_df = assembler.transform(hits_df)"
   ]
  },
  {
   "cell_type": "code",
   "execution_count": 33,
   "id": "20866f32",
   "metadata": {},
   "outputs": [
    {
     "name": "stderr",
     "output_type": "stream",
     "text": [
      "                                                                                \r"
     ]
    },
    {
     "data": {
      "text/plain": [
       "DenseVector([0.0256, 1.0368, 0.0, 0.0, 0.0961, 0.489, 0.0, 0.0, 0.0, 0.0, 0.0, 0.0, 0.0191])"
      ]
     },
     "execution_count": 33,
     "metadata": {},
     "output_type": "execute_result"
    }
   ],
   "source": [
    "# Split the data into train and test sets\n",
    "train_data, test_data = assembled_df.randomSplit([.8,.2], seed=2022)  #Split the data into train and test sets\n",
    "\n",
    "lr = (LinearRegression(featuresCol='features', labelCol=\"popularity\", predictionCol='pred-popularity', \n",
    "                               maxIter=10, regParam=0.3, elasticNetParam=0.8, standardization=False))\n",
    "linearModel = lr.fit(train_data)\n",
    "linearModel.coefficients\n"
   ]
  },
  {
   "cell_type": "code",
   "execution_count": 34,
   "id": "2ff57e9f",
   "metadata": {},
   "outputs": [
    {
     "name": "stderr",
     "output_type": "stream",
     "text": [
      "23/08/28 09:03:59 WARN package: Truncated the string representation of a plan since it was too large. This behavior can be adjusted by setting 'spark.sql.debug.maxToStringFields'.\n",
      "[Stage 27:>                                                         (0 + 1) / 1]\r"
     ]
    },
    {
     "name": "stdout",
     "output_type": "stream",
     "text": [
      "+------------------+----------+\n",
      "|   pred-popularity|popularity|\n",
      "+------------------+----------+\n",
      "| 59.21298749647293|        50|\n",
      "| 58.34037388385513|        71|\n",
      "| 61.03719228529486|        78|\n",
      "|60.685372604420834|        57|\n",
      "| 58.63696518424325|        56|\n",
      "|60.565868023276316|        70|\n",
      "|61.634539509121176|        67|\n",
      "| 59.79794952100309|        72|\n",
      "|  60.4051179182083|        81|\n",
      "|57.134014531715955|        42|\n",
      "|58.561004689661125|        53|\n",
      "|  57.3393807903338|        69|\n",
      "| 61.59220639509376|        57|\n",
      "| 57.88467897523961|         1|\n",
      "| 60.61312456183695|         2|\n",
      "| 59.02179084741277|         0|\n",
      "|58.890647335609565|        74|\n",
      "|59.222675665674394|        68|\n",
      "| 61.78817216712596|        65|\n",
      "| 60.72204191016223|        16|\n",
      "+------------------+----------+\n",
      "only showing top 20 rows\n",
      "\n"
     ]
    },
    {
     "name": "stderr",
     "output_type": "stream",
     "text": [
      "\r",
      "                                                                                \r"
     ]
    }
   ],
   "source": [
    "# Generate predictions\n",
    "\n",
    "# Apply the trained linear model to make predictions on the test data\n",
    "predictions = linearModel.transform(test_data)\n",
    "\n",
    "# Create a DataFrame containing both the predicted popularity and the actual popularity from the test data\n",
    "predandlabel = predictions.select(\"pred-popularity\", \"popularity\")\n",
    "\n",
    "# Display the DataFrame showing the predicted and actual popularity values\n",
    "predandlabel.show()\n"
   ]
  },
  {
   "cell_type": "code",
   "execution_count": 35,
   "id": "cb162c55",
   "metadata": {},
   "outputs": [
    {
     "data": {
      "text/plain": [
       "0.007135417239890418"
      ]
     },
     "execution_count": 35,
     "metadata": {},
     "output_type": "execute_result"
    }
   ],
   "source": [
    "linearModel.summary.r2"
   ]
  },
  {
   "cell_type": "code",
   "execution_count": 36,
   "id": "02e25d95",
   "metadata": {},
   "outputs": [
    {
     "data": {
      "text/plain": [
       "21.331626280839156"
      ]
     },
     "execution_count": 36,
     "metadata": {},
     "output_type": "execute_result"
    }
   ],
   "source": [
    "linearModel.summary.rootMeanSquaredError\n"
   ]
  },
  {
   "cell_type": "markdown",
   "id": "7cbb1061",
   "metadata": {},
   "source": [
    "-Although the model is relatively rough, but seeing that the prediction effect of the model is very, very poor, it can basically be considered that the idea of ​​predicting popularity is not feasible.\n",
    "\n"
   ]
  },
  {
   "cell_type": "markdown",
   "id": "05fc8dfe",
   "metadata": {},
   "source": [
    "## Attempt to predict Genre"
   ]
  },
  {
   "cell_type": "markdown",
   "id": "5da0f94d",
   "metadata": {},
   "source": [
    "-In the exploratory data analysis, it is found that the songs of each category show different characteristics in terms of characteristics, so below we try to predict the genre to which they belong based on these feature values ​​of each song."
   ]
  },
  {
   "cell_type": "markdown",
   "id": "dfcf99fe",
   "metadata": {},
   "source": [
    "-Here we use another data set with a larger sample size, Dataset of songs in Spotify, which contains 42,305 songs. The features contained are basically the same as those of Top Hits Spotify from 2000-2019, and the classification of genre is clearer.\n",
    "\n"
   ]
  },
  {
   "cell_type": "code",
   "execution_count": 37,
   "id": "ab256391",
   "metadata": {},
   "outputs": [],
   "source": [
    "# Define the schema for the DataFrame\n",
    "schema = StructType([\n",
    "    StructField(\"danceability\", FloatType(), nullable=True),\n",
    "    StructField(\"energy\", FloatType(), nullable=True),\n",
    "    StructField(\"key\", IntegerType(), nullable=True),\n",
    "    StructField(\"loudness\", FloatType(), nullable=True),\n",
    "    StructField(\"mode\", IntegerType(), nullable=True),\n",
    "    StructField(\"speechiness\", FloatType(), nullable=True),\n",
    "    StructField(\"acousticness\", FloatType(), nullable=True),\n",
    "    StructField(\"instrumentalness\", FloatType(), nullable=True),\n",
    "    StructField(\"liveness\", FloatType(), nullable=True),\n",
    "    StructField(\"valence\", FloatType(), nullable=True),\n",
    "    StructField(\"tempo\", FloatType(), nullable=True),\n",
    "    StructField(\"type\", StringType(), nullable=True),\n",
    "    StructField(\"id\", StringType(), nullable=True),\n",
    "    StructField(\"uri\", StringType(), nullable=True),\n",
    "    StructField(\"track_href\", StringType(), nullable=True),\n",
    "    StructField(\"analysis_url\", StringType(), nullable=True),\n",
    "    StructField(\"duration_ms\", IntegerType(), nullable=True),\n",
    "    StructField(\"time_signature\", IntegerType(), nullable=True),\n",
    "    StructField(\"genre\", StringType(), nullable=True),\n",
    "    StructField(\"song_name\", StringType(), nullable=True),\n",
    "    StructField(\"Unnamed: 0\", FloatType(), nullable=True),\n",
    "    StructField(\"title\", StringType(), nullable=True)\n",
    "])\n",
    "\n",
    "# Read the CSV file with the defined schema and header\n",
    "songs_df = spark.read.csv(path='genres_v2.csv', schema=schema, header=True)\n",
    "\n",
    "# Drop unnecessary columns\n",
    "columns_to_drop = [\"title\", \"Unnamed: 0\", \"song_name\", \"analysis_url\", \"track_href\", \"uri\", \"id\", \"type\"]\n",
    "songs_df = songs_df.drop(*columns_to_drop)"
   ]
  },
  {
   "cell_type": "code",
   "execution_count": 38,
   "id": "6854ba46",
   "metadata": {},
   "outputs": [
    {
     "name": "stdout",
     "output_type": "stream",
     "text": [
      "+------------+------+---+--------+----+-----------+------------+----------------+--------+-------+-------+-----------+--------------+---------+\n",
      "|danceability|energy|key|loudness|mode|speechiness|acousticness|instrumentalness|liveness|valence|  tempo|duration_ms|time_signature|    genre|\n",
      "+------------+------+---+--------+----+-----------+------------+----------------+--------+-------+-------+-----------+--------------+---------+\n",
      "|       0.831| 0.814|  2|  -7.364|   1|       0.42|      0.0598|          0.0134|  0.0556|  0.389|156.985|     124539|             4|Dark Trap|\n",
      "|       0.719| 0.493|  8|   -7.23|   1|     0.0794|       0.401|             0.0|   0.118|  0.124| 115.08|     224427|             4|Dark Trap|\n",
      "|        0.85| 0.893|  5|  -4.783|   1|     0.0623|      0.0138|         4.14E-6|   0.372| 0.0391| 218.05|      98821|             4|Dark Trap|\n",
      "|       0.476| 0.781|  0|   -4.71|   1|      0.103|      0.0237|             0.0|   0.114|  0.175|186.948|     123661|             3|Dark Trap|\n",
      "|       0.798| 0.624|  2|  -7.668|   1|      0.293|       0.217|             0.0|   0.166|  0.591|147.988|     123298|             4|Dark Trap|\n",
      "+------------+------+---+--------+----+-----------+------------+----------------+--------+-------+-------+-----------+--------------+---------+\n",
      "only showing top 5 rows\n",
      "\n"
     ]
    }
   ],
   "source": [
    "songs_df.show(5)"
   ]
  },
  {
   "cell_type": "code",
   "execution_count": 39,
   "id": "bc9c9a33",
   "metadata": {},
   "outputs": [
    {
     "name": "stderr",
     "output_type": "stream",
     "text": [
      "[Stage 29:=============================>                            (1 + 1) / 2]\r"
     ]
    },
    {
     "name": "stdout",
     "output_type": "stream",
     "text": [
      "+---------------+-----+\n",
      "|          genre|count|\n",
      "+---------------+-----+\n",
      "|Underground Rap| 5875|\n",
      "|            RnB| 2099|\n",
      "|     Trap Metal| 1956|\n",
      "|         techno| 2956|\n",
      "|      Dark Trap| 4578|\n",
      "|      techhouse| 2975|\n",
      "|            Emo| 1680|\n",
      "|            Pop|  461|\n",
      "|            Rap| 1848|\n",
      "|         Hiphop| 3028|\n",
      "|         trance| 2999|\n",
      "|      hardstyle| 2936|\n",
      "|           trap| 2987|\n",
      "|      psytrance| 2961|\n",
      "|            dnb| 2966|\n",
      "+---------------+-----+\n",
      "\n"
     ]
    },
    {
     "name": "stderr",
     "output_type": "stream",
     "text": [
      "\r",
      "                                                                                \r"
     ]
    }
   ],
   "source": [
    "# Group the DataFrame 'songs_df' by the 'genre' column and count the occurrences in each group\n",
    "grouped_by_genre = songs_df.groupBy('genre').count()\n",
    "\n",
    "# Display the result of the grouping and counting operation\n",
    "grouped_by_genre.show()\n"
   ]
  },
  {
   "cell_type": "code",
   "execution_count": 40,
   "id": "662e15e6",
   "metadata": {},
   "outputs": [
    {
     "name": "stderr",
     "output_type": "stream",
     "text": [
      "                                                                                \r"
     ]
    },
    {
     "name": "stdout",
     "output_type": "stream",
     "text": [
      "danceability        0\n",
      "energy              0\n",
      "key                 0\n",
      "loudness            0\n",
      "mode                0\n",
      "speechiness         0\n",
      "acousticness        0\n",
      "instrumentalness    0\n",
      "liveness            0\n",
      "valence             0\n",
      "tempo               0\n",
      "duration_ms         0\n",
      "time_signature      0\n",
      "genre               0\n",
      "dtype: int64\n"
     ]
    }
   ],
   "source": [
    "# Convert the Spark DataFrame to a Pandas DataFrame and check for missing values (NaN/null)\n",
    "pandas_df = songs_df.toPandas()\n",
    "\n",
    "# Calculate the sum of missing values for each column in the Pandas DataFrame\n",
    "missing_value_counts = pandas_df.isna().sum()\n",
    "\n",
    "# Print or use the missing value counts for further analysis or debugging\n",
    "print(missing_value_counts)"
   ]
  },
  {
   "cell_type": "code",
   "execution_count": 41,
   "id": "0ed13031",
   "metadata": {},
   "outputs": [
    {
     "name": "stderr",
     "output_type": "stream",
     "text": [
      "                                                                                \r"
     ]
    }
   ],
   "source": [
    "#Encode the category variable genre\n",
    "\n",
    "# Create a StringIndexer model to convert the 'genre' column from strings to numerical indices.\n",
    "indexer = StringIndexer(inputCol=\"genre\", outputCol=\"genreIndex\")\n",
    "\n",
    "# Fit the StringIndexer model to the 'songs_df' DataFrame and transform the data.\n",
    "indexedsongs_df = indexer.fit(songs_df).transform(songs_df)\n"
   ]
  },
  {
   "cell_type": "code",
   "execution_count": 42,
   "id": "c0f8349d",
   "metadata": {},
   "outputs": [
    {
     "name": "stderr",
     "output_type": "stream",
     "text": [
      "                                                                                \r"
     ]
    },
    {
     "name": "stdout",
     "output_type": "stream",
     "text": [
      "DecisionTreeClassifier_85d8aa0ed410 0.522210563133963\n"
     ]
    },
    {
     "name": "stderr",
     "output_type": "stream",
     "text": [
      "                                                                                \r"
     ]
    },
    {
     "name": "stdout",
     "output_type": "stream",
     "text": [
      "RandomForestClassifier_379624173efa 0.5708289611752361\n"
     ]
    },
    {
     "name": "stderr",
     "output_type": "stream",
     "text": [
      "[Stage 83:=============================>                            (1 + 1) / 2]\r"
     ]
    },
    {
     "name": "stdout",
     "output_type": "stream",
     "text": [
      "MultilayerPerceptronClassifier_f989956e4687 0.13571178733823014\n"
     ]
    },
    {
     "name": "stderr",
     "output_type": "stream",
     "text": [
      "\r",
      "                                                                                \r"
     ]
    }
   ],
   "source": [
    "# List of feature column names\n",
    "featureCols = [\"danceability\", \"energy\", \"key\", \"loudness\", \"mode\", \"speechiness\", \"acousticness\",\n",
    "               \"instrumentalness\", \"liveness\", \"valence\", \"tempo\", \"duration_ms\", \"time_signature\"]\n",
    "\n",
    "# Create a VectorAssembler to combine features into a feature vector column\n",
    "assembler = VectorAssembler(inputCols=featureCols, outputCol=\"features\")\n",
    "\n",
    "# Transform the data to include the assembled feature vector\n",
    "assembled_df = assembler.transform(indexedsongs_df)\n",
    "\n",
    "# Split the data into train and test sets\n",
    "train_data, test_data = assembled_df.randomSplit([.8, .2], seed=2022)\n",
    "\n",
    "# Function to fit a model, make predictions, and calculate accuracy\n",
    "def fit_and_accuracy(model, train_data, test_data):\n",
    "    fittedmodel = model.fit(train_data)\n",
    "    predictions = fittedmodel.transform(test_data)\n",
    "    predandlabel = predictions.select('genreIndex', 'predgenreIndex')\n",
    "    evaluator = MulticlassClassificationEvaluator(predictionCol='predgenreIndex', labelCol='genreIndex')\n",
    "    accuracy = evaluator.evaluate(predandlabel, {evaluator.metricName: \"accuracy\"})\n",
    "    return accuracy\n",
    "\n",
    "# List of machine learning models to evaluate\n",
    "models = [DecisionTreeClassifier(featuresCol='features', labelCol=\"genreIndex\", predictionCol='predgenreIndex', seed=2022),\n",
    "          RandomForestClassifier(featuresCol='features', labelCol=\"genreIndex\", predictionCol='predgenreIndex', seed=2022),\n",
    "          MultilayerPerceptronClassifier(featuresCol='features', labelCol=\"genreIndex\", predictionCol='predgenreIndex', layers=[13, 5, 10, 5, 10, 15], seed=2022)\n",
    "         ]\n",
    "\n",
    "# Loop through models, fit them, evaluate accuracy, and print results\n",
    "for model in models:\n",
    "    accuracy = fit_and_accuracy(model, train_data, test_data)\n",
    "    print(model, accuracy)\n"
   ]
  },
  {
   "cell_type": "code",
   "execution_count": 43,
   "id": "cd93facc",
   "metadata": {},
   "outputs": [
    {
     "name": "stderr",
     "output_type": "stream",
     "text": [
      "                                                                                \r"
     ]
    },
    {
     "name": "stdout",
     "output_type": "stream",
     "text": [
      "maxDepth = 5 minInfoGain = 0.001 numTrees = 10 accuracy = 0.5707123702926431\n"
     ]
    },
    {
     "name": "stderr",
     "output_type": "stream",
     "text": [
      "23/08/28 09:09:09 WARN DAGScheduler: Broadcasting large task binary with size 1514.8 KiB\n",
      "23/08/28 09:09:17 WARN DAGScheduler: Broadcasting large task binary with size 1514.8 KiB\n",
      "23/08/28 09:09:21 WARN DAGScheduler: Broadcasting large task binary with size 2.6 MiB\n",
      "23/08/28 09:09:31 WARN DAGScheduler: Broadcasting large task binary with size 2.6 MiB\n",
      "23/08/28 09:09:35 WARN DAGScheduler: Broadcasting large task binary with size 4.4 MiB\n",
      "23/08/28 09:09:51 WARN DAGScheduler: Broadcasting large task binary with size 2.5 MiB\n",
      "23/08/28 09:09:57 WARN DAGScheduler: Broadcasting large task binary with size 6.9 MiB\n",
      "[Stage 158:>  (0 + 0) / 2][Stage 159:>  (0 + 2) / 2][Stage 161:>  (0 + 0) / 2]2]\r"
     ]
    },
    {
     "name": "stdout",
     "output_type": "stream",
     "text": [
      "maxDepth = 10 minInfoGain = 0.001 numTrees = 10 accuracy = 0.6450973533869652\n"
     ]
    },
    {
     "name": "stderr",
     "output_type": "stream",
     "text": [
      "23/08/28 09:10:03 WARN DAGScheduler: Broadcasting large task binary with size 1199.5 KiB\n",
      "23/08/28 09:10:15 WARN DAGScheduler: Broadcasting large task binary with size 10.2 MiB\n",
      "23/08/28 09:10:21 WARN DAGScheduler: Broadcasting large task binary with size 1445.5 KiB\n",
      "23/08/28 09:10:39 WARN DAGScheduler: Broadcasting large task binary with size 14.0 MiB\n",
      "23/08/28 09:10:48 WARN DAGScheduler: Broadcasting large task binary with size 1592.2 KiB\n",
      "                                                                                \r"
     ]
    },
    {
     "name": "stdout",
     "output_type": "stream",
     "text": [
      "maxDepth = 5 minInfoGain = 0.001 numTrees = 20 accuracy = 0.5708289611752361\n"
     ]
    },
    {
     "name": "stderr",
     "output_type": "stream",
     "text": [
      "23/08/28 09:11:06 WARN DAGScheduler: Broadcasting large task binary with size 18.2 MiB\n",
      "23/08/28 09:11:13 WARN DAGScheduler: Broadcasting large task binary with size 1628.2 KiB\n",
      "23/08/28 09:11:34 WARN DAGScheduler: Broadcasting large task binary with size 13.1 MiB\n",
      "                                                                                \r"
     ]
    },
    {
     "name": "stdout",
     "output_type": "stream",
     "text": [
      "maxDepth = 15 minInfoGain = 0.001 numTrees = 10 accuracy = 0.639734172787688\n"
     ]
    },
    {
     "name": "stderr",
     "output_type": "stream",
     "text": [
      "23/08/28 09:11:46 WARN DAGScheduler: Broadcasting large task binary with size 1571.7 KiB\n",
      "23/08/28 09:11:55 WARN DAGScheduler: Broadcasting large task binary with size 2.8 MiB\n",
      "23/08/28 09:12:10 WARN DAGScheduler: Broadcasting large task binary with size 5.0 MiB\n",
      "[Stage 225:>                                                        (0 + 1) / 2]\r"
     ]
    },
    {
     "name": "stdout",
     "output_type": "stream",
     "text": [
      "maxDepth = 5 minInfoGain = 0.001 numTrees = 30 accuracy = 0.5757257782441413\n"
     ]
    },
    {
     "name": "stderr",
     "output_type": "stream",
     "text": [
      "23/08/28 09:12:18 WARN DAGScheduler: Broadcasting large task binary with size 1235.1 KiB\n",
      "[Stage 231:>                (0 + 1) / 2][Stage 232:========>        (1 + 1) / 2]\r"
     ]
    }
   ],
   "source": [
    "#Multiple threads perform parameter search on random forest\n",
    "\n",
    "# Define a dictionary containing different values for hyperparameters for grid search\n",
    "paragrid = {'maxDepth': [5, 10, 15], 'numTrees': [10, 20, 30], 'minInfoGain': [0.001, 0.01]}\n",
    "\n",
    "# Extract individual hyperparameter value lists from the dictionary\n",
    "infogainlst = paragrid['minInfoGain']\n",
    "numtreelst = paragrid['numTrees']\n",
    "\n",
    "# Define a function for Random Forest Classifier grid search\n",
    "def rfcgridsearch(i):\n",
    "    # Loop through each minInfoGain value\n",
    "    for j in infogainlst:\n",
    "        # Loop through each numTrees value\n",
    "        for k in numtreelst:\n",
    "            # Create a RandomForestClassifier model with specified hyperparameters\n",
    "            model = RandomForestClassifier(featuresCol='features', labelCol=\"genreIndex\", predictionCol='predgenreIndex', seed=2022, maxDepth=i, minInfoGain=j, numTrees=k)\n",
    "            \n",
    "            # Fit the model and calculate accuracy\n",
    "            accuracy = fit_and_accuracy(model, train_data, test_data)\n",
    "            \n",
    "            # Print the combination of hyperparameters and the corresponding accuracy\n",
    "            print('maxDepth =', i, 'minInfoGain =', j, 'numTrees =', k, 'accuracy =', accuracy)\n",
    "\n",
    "# Import threading module and create threads for parallel execution\n",
    "import threading\n",
    "# Loop through maxDepth values from 5 to 20 in steps of 5\n",
    "for i in range(5, 20, 5):\n",
    "    # Create a thread for the rfcgridsearch function with the current maxDepth value as argument\n",
    "    t = threading.Thread(target=rfcgridsearch, args=(i,))\n",
    "    # Start the thread\n",
    "    t.start()"
   ]
  },
  {
   "cell_type": "code",
   "execution_count": 44,
   "id": "bf5ff3b8",
   "metadata": {},
   "outputs": [
    {
     "name": "stderr",
     "output_type": "stream",
     "text": [
      "23/08/28 09:12:36 WARN DAGScheduler: Broadcasting large task binary with size 4.7 MiB\n",
      "[Stage 239:>  (0 + 0) / 2][Stage 240:>  (0 + 2) / 2][Stage 242:>  (0 + 0) / 2]  \r"
     ]
    },
    {
     "name": "stdout",
     "output_type": "stream",
     "text": [
      "maxDepth = 10 minInfoGain = 0.001 numTrees = 20 accuracy = 0.6492946251603124\n"
     ]
    },
    {
     "name": "stderr",
     "output_type": "stream",
     "text": [
      "23/08/28 09:12:58 WARN DAGScheduler: Broadcasting large task binary with size 1571.7 KiB\n",
      "23/08/28 09:13:09 WARN DAGScheduler: Broadcasting large task binary with size 2.8 MiB\n",
      "23/08/28 09:13:26 WARN DAGScheduler: Broadcasting large task binary with size 5.0 MiB\n",
      "[Stage 277:=> (1 + 1) / 2][Stage 279:>  (0 + 0) / 2][Stage 281:>  (0 + 0) / 2]\r"
     ]
    },
    {
     "name": "stdout",
     "output_type": "stream",
     "text": [
      "maxDepth = 5 minInfoGain = 0.01 numTrees = 10 accuracy = 0.5629007811589134\n"
     ]
    },
    {
     "name": "stderr",
     "output_type": "stream",
     "text": [
      "23/08/28 09:13:36 WARN DAGScheduler: Broadcasting large task binary with size 1235.1 KiB\n",
      "23/08/28 09:13:47 WARN DAGScheduler: Broadcasting large task binary with size 8.5 MiB\n",
      "23/08/28 09:13:56 WARN DAGScheduler: Broadcasting large task binary with size 1786.0 KiB\n",
      "23/08/28 09:13:57 WARN DAGScheduler: Broadcasting large task binary with size 1213.1 KiB\n",
      "23/08/28 09:14:10 WARN DAGScheduler: Broadcasting large task binary with size 13.5 MiB\n",
      "23/08/28 09:14:18 WARN DAGScheduler: Broadcasting large task binary with size 2.3 MiB\n",
      "23/08/28 09:14:30 WARN DAGScheduler: Broadcasting large task binary with size 1213.1 KiB\n",
      "23/08/28 09:14:31 WARN DAGScheduler: Broadcasting large task binary with size 2.3 MiB\n",
      "23/08/28 09:14:52 WARN DAGScheduler: Broadcasting large task binary with size 4.2 MiB\n",
      "23/08/28 09:14:57 WARN DAGScheduler: Broadcasting large task binary with size 20.0 MiB\n",
      "23/08/28 09:15:02 WARN DAGScheduler: Broadcasting large task binary with size 1184.1 KiB\n",
      "23/08/28 09:15:04 WARN DAGScheduler: Broadcasting large task binary with size 2.3 MiB\n",
      "23/08/28 09:15:13 WARN DAGScheduler: Broadcasting large task binary with size 7.6 MiB\n",
      "23/08/28 09:15:22 WARN DAGScheduler: Broadcasting large task binary with size 2.8 MiB\n",
      "23/08/28 09:15:49 WARN DAGScheduler: Broadcasting large task binary with size 27.8 MiB\n",
      "23/08/28 09:15:49 WARN DAGScheduler: Broadcasting large task binary with size 1899.7 KiB\n",
      "23/08/28 09:15:55 WARN DAGScheduler: Broadcasting large task binary with size 4.2 MiB\n",
      "23/08/28 09:16:11 WARN DAGScheduler: Broadcasting large task binary with size 7.2 MiB\n",
      "23/08/28 09:16:18 WARN DAGScheduler: Broadcasting large task binary with size 3.1 MiB\n",
      "23/08/28 09:16:24 WARN DAGScheduler: Broadcasting large task binary with size 1184.1 KiB\n",
      "23/08/28 09:16:47 WARN DAGScheduler: Broadcasting large task binary with size 7.6 MiB\n",
      "23/08/28 09:16:53 WARN DAGScheduler: Broadcasting large task binary with size 36.2 MiB\n",
      "23/08/28 09:17:00 WARN DAGScheduler: Broadcasting large task binary with size 1899.7 KiB\n",
      "23/08/28 09:17:25 WARN DAGScheduler: Broadcasting large task binary with size 3.2 MiB\n",
      "23/08/28 09:17:48 WARN DAGScheduler: Broadcasting large task binary with size 7.2 MiB\n",
      "[Stage 341:============================>                            (1 + 1) / 2]\r"
     ]
    },
    {
     "name": "stdout",
     "output_type": "stream",
     "text": [
      "maxDepth = 5 minInfoGain = 0.01 numTrees = 20 accuracy = 0.5595196455637169\n"
     ]
    },
    {
     "name": "stderr",
     "output_type": "stream",
     "text": [
      "                                                                                \r"
     ]
    },
    {
     "name": "stdout",
     "output_type": "stream",
     "text": [
      "maxDepth = 10 minInfoGain = 0.001 numTrees = 30 accuracy = 0.6550075784073686\n"
     ]
    },
    {
     "name": "stderr",
     "output_type": "stream",
     "text": [
      "23/08/28 09:18:46 WARN DAGScheduler: Broadcasting large task binary with size 26.0 MiB\n",
      "                                                                                \r"
     ]
    },
    {
     "name": "stdout",
     "output_type": "stream",
     "text": [
      "maxDepth = 15 minInfoGain = 0.001 numTrees = 20 accuracy = 0.645913489565116\n"
     ]
    },
    {
     "name": "stderr",
     "output_type": "stream",
     "text": [
      "23/08/28 09:20:23 WARN DAGScheduler: Broadcasting large task binary with size 1213.1 KiB\n",
      "23/08/28 09:20:44 WARN DAGScheduler: Broadcasting large task binary with size 2.3 MiB\n",
      "                                                                                \r"
     ]
    },
    {
     "name": "stdout",
     "output_type": "stream",
     "text": [
      "maxDepth = 5 minInfoGain = 0.01 numTrees = 30 accuracy = 0.5851696397341728\n"
     ]
    },
    {
     "name": "stderr",
     "output_type": "stream",
     "text": [
      "23/08/28 09:21:02 WARN DAGScheduler: Broadcasting large task binary with size 1213.1 KiB\n",
      "23/08/28 09:21:13 WARN DAGScheduler: Broadcasting large task binary with size 4.2 MiB\n",
      "23/08/28 09:21:21 WARN DAGScheduler: Broadcasting large task binary with size 1277.1 KiB\n",
      "23/08/28 09:21:33 WARN DAGScheduler: Broadcasting large task binary with size 2.3 MiB\n",
      "23/08/28 09:21:41 WARN DAGScheduler: Broadcasting large task binary with size 1184.1 KiB\n",
      "23/08/28 09:21:56 WARN DAGScheduler: Broadcasting large task binary with size 2.1 MiB\n",
      "23/08/28 09:21:58 WARN DAGScheduler: Broadcasting large task binary with size 7.6 MiB\n",
      "23/08/28 09:22:25 WARN DAGScheduler: Broadcasting large task binary with size 4.2 MiB\n",
      "23/08/28 09:22:38 WARN DAGScheduler: Broadcasting large task binary with size 2010.7 KiB\n",
      "23/08/28 09:22:49 WARN DAGScheduler: Broadcasting large task binary with size 1899.7 KiB\n",
      "23/08/28 09:22:57 WARN DAGScheduler: Broadcasting large task binary with size 1184.1 KiB\n",
      "23/08/28 09:23:34 WARN DAGScheduler: Broadcasting large task binary with size 7.6 MiB\n",
      "                                                                                \r"
     ]
    },
    {
     "name": "stdout",
     "output_type": "stream",
     "text": [
      "maxDepth = 10 minInfoGain = 0.01 numTrees = 10 accuracy = 0.6378687186662003\n"
     ]
    },
    {
     "name": "stderr",
     "output_type": "stream",
     "text": [
      "23/08/28 09:23:55 WARN DAGScheduler: Broadcasting large task binary with size 1899.7 KiB\n",
      "23/08/28 09:24:36 WARN DAGScheduler: Broadcasting large task binary with size 13.0 MiB\n",
      "23/08/28 09:25:10 WARN DAGScheduler: Broadcasting large task binary with size 2.7 MiB\n",
      "23/08/28 09:25:47 WARN DAGScheduler: Broadcasting large task binary with size 20.6 MiB\n",
      "23/08/28 09:26:09 WARN DAGScheduler: Broadcasting large task binary with size 1360.9 KiB\n",
      "23/08/28 09:26:18 WARN DAGScheduler: Broadcasting large task binary with size 2.4 MiB\n",
      "23/08/28 09:26:18 WARN DAGScheduler: Broadcasting large task binary with size 3.5 MiB\n",
      "23/08/28 09:26:42 WARN DAGScheduler: Broadcasting large task binary with size 4.0 MiB\n",
      "23/08/28 09:26:49 WARN DAGScheduler: Broadcasting large task binary with size 29.5 MiB\n",
      "23/08/28 09:27:22 WARN DAGScheduler: Broadcasting large task binary with size 3.7 MiB\n",
      "23/08/28 09:27:25 WARN DAGScheduler: Broadcasting large task binary with size 4.0 MiB\n",
      "[Stage 484:============================>                            (1 + 1) / 2]\r"
     ]
    },
    {
     "name": "stdout",
     "output_type": "stream",
     "text": [
      "maxDepth = 10 minInfoGain = 0.01 numTrees = 20 accuracy = 0.6411332633788038\n"
     ]
    },
    {
     "name": "stderr",
     "output_type": "stream",
     "text": [
      "23/08/28 09:27:58 WARN DAGScheduler: Broadcasting large task binary with size 36.5 MiB\n",
      "[Stage 490:>                (0 + 0) / 2][Stage 491:>                (0 + 2) / 2]\r"
     ]
    }
   ],
   "source": [
    "#The optimal parameters are maxDepth=10, minInfoGain=0.001, numTrees=30\n",
    "\n",
    "# Create a RandomForestClassifier with specified parameters\n",
    "bestmodel = RandomForestClassifier(featuresCol='features', labelCol=\"genreIndex\", predictionCol='predgenreIndex', seed=2022, maxDepth=10, minInfoGain=0.001, numTrees=30)\n",
    "\n",
    "# Define a function to fit the model and calculate accuracy\n",
    "def fit_and_accuracy(model, train_data, test_data):\n",
    "    fitted_model = model.fit(train_data)\n",
    "    predictions = fitted_model.transform(test_data)\n",
    "    correct_predictions = predictions.filter(predictions.genreIndex == predictions.predgenreIndex).count()\n",
    "    total_predictions = predictions.count()\n",
    "    accuracy = correct_predictions / total_predictions\n",
    "    return accuracy\n",
    "\n",
    "# Calculate accuracy using the fit_and_accuracy function\n",
    "accuracy = fit_and_accuracy(bestmodel, train_data, test_data)\n",
    "\n",
    "# Fit the best model on the training data\n",
    "fittedmodel = bestmodel.fit(train_data)\n",
    "\n",
    "# Make predictions on the test data\n",
    "predictions = fittedmodel.transform(test_data)\n",
    "\n",
    "# Select relevant columns from predictions for comparison\n",
    "predandlabel = predictions.select('genreIndex', 'predgenreIndex')"
   ]
  },
  {
   "cell_type": "code",
   "execution_count": 45,
   "id": "7cd133e5",
   "metadata": {},
   "outputs": [
    {
     "name": "stderr",
     "output_type": "stream",
     "text": [
      "23/08/28 09:28:20 WARN DAGScheduler: Broadcasting large task binary with size 4.0 MiB\n",
      "23/08/28 09:28:28 WARN DAGScheduler: Broadcasting large task binary with size 7.1 MiB\n",
      "[Stage 501:>                (0 + 2) / 2][Stage 503:>                (0 + 0) / 2]\r"
     ]
    },
    {
     "data": {
      "image/png": "[encoded data removed]",
      "text/plain": [
       "<Figure size 1080x648 with 2 Axes>"
      ]
     },
     "metadata": {},
     "output_type": "display_data"
    },
    {
     "name": "stderr",
     "output_type": "stream",
     "text": [
      "23/08/28 09:29:01 WARN DAGScheduler: Broadcasting large task binary with size 47.2 MiB\n",
      "23/08/28 09:29:22 WARN DAGScheduler: Broadcasting large task binary with size 4.0 MiB\n",
      "23/08/28 09:29:38 WARN DAGScheduler: Broadcasting large task binary with size 6.6 MiB\n",
      "23/08/28 09:29:43 WARN DAGScheduler: Broadcasting large task binary with size 1111.5 KiB\n",
      "23/08/28 09:29:49 WARN DAGScheduler: Broadcasting large task binary with size 8.6 MiB\n",
      "23/08/28 09:29:54 WARN DAGScheduler: Broadcasting large task binary with size 2016.5 KiB\n",
      "23/08/28 09:29:58 WARN DAGScheduler: Broadcasting large task binary with size 3.8 MiB\n",
      "23/08/28 09:30:04 WARN DAGScheduler: Broadcasting large task binary with size 3.5 MiB\n",
      "23/08/28 09:30:18 WARN DAGScheduler: Broadcasting large task binary with size 6.1 MiB\n",
      "23/08/28 09:30:22 WARN DAGScheduler: Broadcasting large task binary with size 39.1 MiB\n",
      "23/08/28 09:30:25 WARN DAGScheduler: Broadcasting large task binary with size 1427.5 KiB\n",
      "[Stage 526:============================>                            (1 + 1) / 2]\r"
     ]
    },
    {
     "name": "stdout",
     "output_type": "stream",
     "text": [
      "maxDepth = 15 minInfoGain = 0.001 numTrees = 30 accuracy = 0.6540748513466247\n"
     ]
    },
    {
     "name": "stderr",
     "output_type": "stream",
     "text": [
      "23/08/28 09:30:41 WARN DAGScheduler: Broadcasting large task binary with size 5.7 MiB\n",
      "                                                                                \r"
     ]
    },
    {
     "name": "stdout",
     "output_type": "stream",
     "text": [
      "maxDepth = 10 minInfoGain = 0.01 numTrees = 30 accuracy = 0.6435816719132564\n"
     ]
    },
    {
     "name": "stderr",
     "output_type": "stream",
     "text": [
      "23/08/28 09:30:57 WARN DAGScheduler: Broadcasting large task binary with size 1277.1 KiB\n",
      "23/08/28 09:31:01 WARN DAGScheduler: Broadcasting large task binary with size 2.1 MiB\n",
      "23/08/28 09:31:05 WARN DAGScheduler: Broadcasting large task binary with size 3.4 MiB\n",
      "23/08/28 09:31:11 WARN DAGScheduler: Broadcasting large task binary with size 5.2 MiB\n",
      "23/08/28 09:31:17 WARN DAGScheduler: Broadcasting large task binary with size 7.5 MiB\n",
      "23/08/28 09:31:24 WARN DAGScheduler: Broadcasting large task binary with size 10.0 MiB\n",
      "23/08/28 09:31:31 WARN DAGScheduler: Broadcasting large task binary with size 12.5 MiB\n",
      "23/08/28 09:31:40 WARN DAGScheduler: Broadcasting large task binary with size 8.8 MiB\n",
      "                                                                                \r"
     ]
    },
    {
     "name": "stdout",
     "output_type": "stream",
     "text": [
      "maxDepth = 15 minInfoGain = 0.01 numTrees = 10 accuracy = 0.6420659904395476\n"
     ]
    },
    {
     "name": "stderr",
     "output_type": "stream",
     "text": [
      "23/08/28 09:31:57 WARN DAGScheduler: Broadcasting large task binary with size 1360.9 KiB\n",
      "23/08/28 09:32:00 WARN DAGScheduler: Broadcasting large task binary with size 2.4 MiB\n",
      "23/08/28 09:32:05 WARN DAGScheduler: Broadcasting large task binary with size 4.0 MiB\n",
      "23/08/28 09:32:11 WARN DAGScheduler: Broadcasting large task binary with size 6.5 MiB\n",
      "23/08/28 09:32:15 WARN DAGScheduler: Broadcasting large task binary with size 1285.4 KiB\n",
      "23/08/28 09:32:21 WARN DAGScheduler: Broadcasting large task binary with size 10.0 MiB\n",
      "23/08/28 09:32:26 WARN DAGScheduler: Broadcasting large task binary with size 1640.7 KiB\n",
      "23/08/28 09:32:30 WARN DAGScheduler: Broadcasting large task binary with size 14.4 MiB\n",
      "23/08/28 09:32:34 WARN DAGScheduler: Broadcasting large task binary with size 1880.7 KiB\n",
      "23/08/28 09:32:45 WARN DAGScheduler: Broadcasting large task binary with size 19.3 MiB\n",
      "23/08/28 09:32:51 WARN DAGScheduler: Broadcasting large task binary with size 1909.2 KiB\n",
      "23/08/28 09:33:01 WARN DAGScheduler: Broadcasting large task binary with size 24.2 MiB\n",
      "23/08/28 09:33:10 WARN DAGScheduler: Broadcasting large task binary with size 1774.8 KiB\n",
      "23/08/28 09:33:21 WARN DAGScheduler: Broadcasting large task binary with size 17.0 MiB\n",
      "[Stage 612:============================>                            (1 + 1) / 2]\r"
     ]
    },
    {
     "name": "stdout",
     "output_type": "stream",
     "text": [
      "maxDepth = 15 minInfoGain = 0.01 numTrees = 20 accuracy = 0.6475457619214178\n"
     ]
    },
    {
     "name": "stderr",
     "output_type": "stream",
     "text": [
      "23/08/28 09:33:42 WARN DAGScheduler: Broadcasting large task binary with size 1111.5 KiB\n",
      "23/08/28 09:33:46 WARN DAGScheduler: Broadcasting large task binary with size 2016.5 KiB\n",
      "23/08/28 09:33:51 WARN DAGScheduler: Broadcasting large task binary with size 3.5 MiB\n",
      "23/08/28 09:33:59 WARN DAGScheduler: Broadcasting large task binary with size 6.1 MiB\n",
      "23/08/28 09:34:04 WARN DAGScheduler: Broadcasting large task binary with size 1427.5 KiB\n",
      "23/08/28 09:34:11 WARN DAGScheduler: Broadcasting large task binary with size 10.1 MiB\n",
      "23/08/28 09:34:18 WARN DAGScheduler: Broadcasting large task binary with size 1967.7 KiB\n",
      "23/08/28 09:34:26 WARN DAGScheduler: Broadcasting large task binary with size 15.4 MiB\n",
      "23/08/28 09:34:36 WARN DAGScheduler: Broadcasting large task binary with size 2.4 MiB\n",
      "23/08/28 09:34:47 WARN DAGScheduler: Broadcasting large task binary with size 21.9 MiB\n",
      "23/08/28 09:34:56 WARN DAGScheduler: Broadcasting large task binary with size 2.7 MiB\n",
      "23/08/28 09:35:08 WARN DAGScheduler: Broadcasting large task binary with size 29.1 MiB\n",
      "23/08/28 09:35:19 WARN DAGScheduler: Broadcasting large task binary with size 2.7 MiB\n",
      "23/08/28 09:35:31 WARN DAGScheduler: Broadcasting large task binary with size 36.2 MiB\n",
      "23/08/28 09:35:41 WARN DAGScheduler: Broadcasting large task binary with size 2.5 MiB\n",
      "23/08/28 09:35:54 WARN DAGScheduler: Broadcasting large task binary with size 25.2 MiB\n",
      "                                                                                \r"
     ]
    },
    {
     "name": "stdout",
     "output_type": "stream",
     "text": [
      "maxDepth = 15 minInfoGain = 0.01 numTrees = 30 accuracy = 0.6497609886906844\n"
     ]
    }
   ],
   "source": [
    "# confusion matrix\n",
    "\n",
    "# Assuming predandlabel is a DataFrame containing predicted and actual labels\n",
    "# Select the 'genreIndex' and 'predgenreIndex' columns and convert to Pandas DataFrames\n",
    "actual_labels = predandlabel.select('genreIndex').toPandas()\n",
    "predicted_labels = predandlabel.select('predgenreIndex').toPandas()\n",
    "\n",
    "# Calculate the confusion matrix\n",
    "cm = confusion_matrix(actual_labels, predicted_labels)\n",
    "\n",
    "# Set the size of the plot\n",
    "plt.rcParams[\"figure.figsize\"] = (15, 9)\n",
    "\n",
    "# Create a heatmap of the confusion matrix with annotations and a blue-green colormap\n",
    "sns.heatmap(cm, annot=True, cmap=\"GnBu\", fmt='g')\n",
    "\n",
    "# Display the plot\n",
    "plt.show()"
   ]
  },
  {
   "cell_type": "markdown",
   "id": "945f8c57",
   "metadata": {},
   "source": [
    "-The correct rate of random forest on the test set is 65.5%. From the perspective of the confusion matrix, the model also has a certain predictive ability for genre."
   ]
  },
  {
   "cell_type": "code",
   "execution_count": null,
   "id": "5612ab66",
   "metadata": {},
   "outputs": [],
   "source": []
  }
 ],
 "metadata": {
  "kernelspec": {
   "display_name": "Python 3 (ipykernel)",
   "language": "python",
   "name": "python3"
  },
  "language_info": {
   "codemirror_mode": {
    "name": "ipython",
    "version": 3
   },
   "file_extension": ".py",
   "mimetype": "text/x-python",
   "name": "python",
   "nbconvert_exporter": "python",
   "pygments_lexer": "ipython3",
   "version": "3.10.12"
  }
 },
 "nbformat": 4,
 "nbformat_minor": 5
}
